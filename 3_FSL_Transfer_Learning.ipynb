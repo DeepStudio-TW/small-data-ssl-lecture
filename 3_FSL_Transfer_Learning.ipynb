{
 "cells": [
  {
   "cell_type": "markdown",
   "id": "ba1a3ff2",
   "metadata": {
    "id": "bf50fabb"
   },
   "source": [
    "# Few Shot Learning- Training"
   ]
  },
  {
   "cell_type": "markdown",
   "id": "0b22c27b",
   "metadata": {
    "id": "e1e49e1d"
   },
   "source": [
    "**Notebook內容：**\n",
    "1. 資料探索與資料讀取\n",
    "2. 模型訓練\n",
    "3. 預測&評估\n",
    "4. 練習\n",
    "5. 參考資料(連結+連結說明)"
   ]
  },
  {
   "cell_type": "markdown",
   "id": "b90ca07e",
   "metadata": {
    "id": "f3b94ff2"
   },
   "source": [
    "延續上一份教材，我們已經之知道Few shot learning的model有哪些，那這邊我沒會把model與配合的訓練框架組裝起來"
   ]
  },
  {
   "cell_type": "markdown",
   "id": "8df5f8f0",
   "metadata": {
    "id": "551d1f25"
   },
   "source": [
    "## 1.資料探索與資料讀取"
   ]
  },
  {
   "cell_type": "code",
   "execution_count": 1,
   "id": "8a3cae8a",
   "metadata": {
    "colab": {
     "base_uri": "https://localhost:8080/"
    },
    "executionInfo": {
     "elapsed": 20000,
     "status": "ok",
     "timestamp": 1648268908313,
     "user": {
      "displayName": "黃書璵",
      "photoUrl": "https://lh3.googleusercontent.com/a/default-user=s64",
      "userId": "16626369651643867989"
     },
     "user_tz": -480
    },
    "id": "96dce1ea",
    "outputId": "dba82862-bf82-423b-9678-3e0e69d06e80"
   },
   "outputs": [
    {
     "name": "stdout",
     "output_type": "stream",
     "text": [
      "tar (child): mnistm_half.tar.gz: Cannot open: No such file or directory\n",
      "tar (child): Error is not recoverable: exiting now\n",
      "tar: Child returned status 2\n",
      "tar: Error is not recoverable: exiting now\n"
     ]
    }
   ],
   "source": [
    "# 升級 gdown 套件\n",
    "!pip install -q --upgrade gdown\n",
    "# Download dataset\n",
    "!gdown -q  https://drive.google.com/u/0/uc?id=1XagZtTeUhFWiXvlZabja0XJhBMwQFl6j&export=download\n",
    "# Unzip the files\n",
    "!tar zxf  mnistm_half.tar.gz\n",
    "# Download model_tools\n",
    "!gdown -q  https://drive.google.com/u/0/uc?id=12VvY46C4nJoxBflifdKEBGjdx4Jq_fz3&export=download"
   ]
  },
  {
   "cell_type": "markdown",
   "id": "8e263848",
   "metadata": {
    "id": "c9b0b341"
   },
   "source": [
    "### 1.1 範例內容\n",
    "* 資料來源: \n",
    "    * Source: [MNIST-M](https://paperswithcode.com/dataset/mnist-m) 0~9 數字圖片混入BSDS500照片資料庫背景\n",
    "    * Target: [MNIST](http://yann.lecun.com/exdb/mnist/) 0~9 數字圖片資料\n",
    "\n",
    "* Label: \n",
    "    * Source data label 0~9\n",
    "    * target data label 0~9\n",
    "    * test data不使用 label訓練，純粹驗證用"
   ]
  },
  {
   "cell_type": "code",
   "execution_count": 2,
   "id": "7162b7bb",
   "metadata": {
    "executionInfo": {
     "elapsed": 6330,
     "status": "ok",
     "timestamp": 1648268923366,
     "user": {
      "displayName": "黃書璵",
      "photoUrl": "https://lh3.googleusercontent.com/a/default-user=s64",
      "userId": "16626369651643867989"
     },
     "user_tz": -480
    },
    "id": "7c1611a0"
   },
   "outputs": [],
   "source": [
    "# 讀取基本套件\n",
    "import os\n",
    "from glob import glob\n",
    "import numpy as np\n",
    "import matplotlib.pyplot as plt\n",
    "# Backend: pytorch\n",
    "import torch"
   ]
  },
  {
   "cell_type": "code",
   "execution_count": 3,
   "id": "58dba4a2",
   "metadata": {
    "executionInfo": {
     "elapsed": 16,
     "status": "ok",
     "timestamp": 1648268923368,
     "user": {
      "displayName": "黃書璵",
      "photoUrl": "https://lh3.googleusercontent.com/a/default-user=s64",
      "userId": "16626369651643867989"
     },
     "user_tz": -480
    },
    "id": "7027b4ed"
   },
   "outputs": [],
   "source": [
    "# 設一個 show data和label的function\n",
    "def show_data(imgs, titles,cmap=None):\n",
    "    # imshow, 縮放模式為nearest。\n",
    "    plt.figure(figsize=(18, 18))\n",
    "    for id,(img,title) in enumerate(zip(imgs,titles)):\n",
    "        plt.subplot(1, len(titles), id+1)\n",
    "        fig = plt.imshow(img,interpolation='nearest',cmap=cmap)\n",
    "        plt.axis(\"off\")\n",
    "        plt.title(title)"
   ]
  },
  {
   "cell_type": "code",
   "execution_count": 4,
   "id": "27888983",
   "metadata": {
    "colab": {
     "base_uri": "https://localhost:8080/",
     "height": 88
    },
    "executionInfo": {
     "elapsed": 614,
     "status": "ok",
     "timestamp": 1648268923968,
     "user": {
      "displayName": "黃書璵",
      "photoUrl": "https://lh3.googleusercontent.com/a/default-user=s64",
      "userId": "16626369651643867989"
     },
     "user_tz": -480
    },
    "id": "s_UaUtBniIBw",
    "outputId": "ee5d2ba1-6bbe-4fd6-a2da-bc8198b814d3"
   },
   "outputs": [
    {
     "ename": "IndexError",
     "evalue": "list index out of range",
     "output_type": "error",
     "traceback": [
      "\u001b[0;31m---------------------------------------------------------------------------\u001b[0m",
      "\u001b[0;31mIndexError\u001b[0m                                Traceback (most recent call last)",
      "\u001b[0;32m/tmp/ipykernel_306/1419053343.py\u001b[0m in \u001b[0;36m<module>\u001b[0;34m\u001b[0m\n\u001b[1;32m      1\u001b[0m \u001b[0;31m# 看source data:\u001b[0m\u001b[0;34m\u001b[0m\u001b[0;34m\u001b[0m\u001b[0;34m\u001b[0m\u001b[0m\n\u001b[1;32m      2\u001b[0m \u001b[0mtitles\u001b[0m \u001b[0;34m=\u001b[0m \u001b[0;34m[\u001b[0m\u001b[0;34m'0'\u001b[0m\u001b[0;34m,\u001b[0m \u001b[0;34m'1'\u001b[0m\u001b[0;34m,\u001b[0m \u001b[0;34m'2'\u001b[0m\u001b[0;34m,\u001b[0m \u001b[0;34m'3'\u001b[0m\u001b[0;34m,\u001b[0m \u001b[0;34m'4'\u001b[0m\u001b[0;34m,\u001b[0m \u001b[0;34m'5'\u001b[0m\u001b[0;34m,\u001b[0m \u001b[0;34m'6'\u001b[0m\u001b[0;34m,\u001b[0m \u001b[0;34m'7'\u001b[0m\u001b[0;34m,\u001b[0m \u001b[0;34m'8'\u001b[0m\u001b[0;34m,\u001b[0m \u001b[0;34m'9'\u001b[0m\u001b[0;34m]\u001b[0m\u001b[0;34m\u001b[0m\u001b[0;34m\u001b[0m\u001b[0m\n\u001b[0;32m----> 3\u001b[0;31m \u001b[0mexample_files\u001b[0m\u001b[0;34m=\u001b[0m\u001b[0;34m[\u001b[0m\u001b[0mglob\u001b[0m\u001b[0;34m(\u001b[0m\u001b[0;34mf\"mnistm_half/mnist_m_test/{i}/*.png\"\u001b[0m\u001b[0;34m)\u001b[0m\u001b[0;34m[\u001b[0m\u001b[0;36m0\u001b[0m\u001b[0;34m]\u001b[0m \u001b[0;32mfor\u001b[0m \u001b[0mi\u001b[0m \u001b[0;32min\u001b[0m \u001b[0mtitles\u001b[0m\u001b[0;34m]\u001b[0m\u001b[0;34m\u001b[0m\u001b[0;34m\u001b[0m\u001b[0m\n\u001b[0m\u001b[1;32m      4\u001b[0m \u001b[0mshow_data\u001b[0m\u001b[0;34m(\u001b[0m\u001b[0;34m[\u001b[0m\u001b[0;34m*\u001b[0m\u001b[0mmap\u001b[0m\u001b[0;34m(\u001b[0m\u001b[0mplt\u001b[0m\u001b[0;34m.\u001b[0m\u001b[0mimread\u001b[0m\u001b[0;34m,\u001b[0m\u001b[0mexample_files\u001b[0m\u001b[0;34m)\u001b[0m\u001b[0;34m]\u001b[0m\u001b[0;34m,\u001b[0m\u001b[0mtitles\u001b[0m\u001b[0;34m)\u001b[0m\u001b[0;34m\u001b[0m\u001b[0;34m\u001b[0m\u001b[0m\n",
      "\u001b[0;32m/tmp/ipykernel_306/1419053343.py\u001b[0m in \u001b[0;36m<listcomp>\u001b[0;34m(.0)\u001b[0m\n\u001b[1;32m      1\u001b[0m \u001b[0;31m# 看source data:\u001b[0m\u001b[0;34m\u001b[0m\u001b[0;34m\u001b[0m\u001b[0;34m\u001b[0m\u001b[0m\n\u001b[1;32m      2\u001b[0m \u001b[0mtitles\u001b[0m \u001b[0;34m=\u001b[0m \u001b[0;34m[\u001b[0m\u001b[0;34m'0'\u001b[0m\u001b[0;34m,\u001b[0m \u001b[0;34m'1'\u001b[0m\u001b[0;34m,\u001b[0m \u001b[0;34m'2'\u001b[0m\u001b[0;34m,\u001b[0m \u001b[0;34m'3'\u001b[0m\u001b[0;34m,\u001b[0m \u001b[0;34m'4'\u001b[0m\u001b[0;34m,\u001b[0m \u001b[0;34m'5'\u001b[0m\u001b[0;34m,\u001b[0m \u001b[0;34m'6'\u001b[0m\u001b[0;34m,\u001b[0m \u001b[0;34m'7'\u001b[0m\u001b[0;34m,\u001b[0m \u001b[0;34m'8'\u001b[0m\u001b[0;34m,\u001b[0m \u001b[0;34m'9'\u001b[0m\u001b[0;34m]\u001b[0m\u001b[0;34m\u001b[0m\u001b[0;34m\u001b[0m\u001b[0m\n\u001b[0;32m----> 3\u001b[0;31m \u001b[0mexample_files\u001b[0m\u001b[0;34m=\u001b[0m\u001b[0;34m[\u001b[0m\u001b[0mglob\u001b[0m\u001b[0;34m(\u001b[0m\u001b[0;34mf\"mnistm_half/mnist_m_test/{i}/*.png\"\u001b[0m\u001b[0;34m)\u001b[0m\u001b[0;34m[\u001b[0m\u001b[0;36m0\u001b[0m\u001b[0;34m]\u001b[0m \u001b[0;32mfor\u001b[0m \u001b[0mi\u001b[0m \u001b[0;32min\u001b[0m \u001b[0mtitles\u001b[0m\u001b[0;34m]\u001b[0m\u001b[0;34m\u001b[0m\u001b[0;34m\u001b[0m\u001b[0m\n\u001b[0m\u001b[1;32m      4\u001b[0m \u001b[0mshow_data\u001b[0m\u001b[0;34m(\u001b[0m\u001b[0;34m[\u001b[0m\u001b[0;34m*\u001b[0m\u001b[0mmap\u001b[0m\u001b[0;34m(\u001b[0m\u001b[0mplt\u001b[0m\u001b[0;34m.\u001b[0m\u001b[0mimread\u001b[0m\u001b[0;34m,\u001b[0m\u001b[0mexample_files\u001b[0m\u001b[0;34m)\u001b[0m\u001b[0;34m]\u001b[0m\u001b[0;34m,\u001b[0m\u001b[0mtitles\u001b[0m\u001b[0;34m)\u001b[0m\u001b[0;34m\u001b[0m\u001b[0;34m\u001b[0m\u001b[0m\n",
      "\u001b[0;31mIndexError\u001b[0m: list index out of range"
     ]
    }
   ],
   "source": [
    "# 看source data: \n",
    "titles = ['0', '1', '2', '3', '4', '5', '6', '7', '8', '9']\n",
    "example_files=[glob(f\"mnistm_half/mnist_m_test/{i}/*.png\")[0] for i in titles]\n",
    "show_data([*map(plt.imread,example_files)],titles)"
   ]
  },
  {
   "cell_type": "code",
   "execution_count": 5,
   "id": "80e60b17",
   "metadata": {
    "colab": {
     "base_uri": "https://localhost:8080/",
     "height": 88
    },
    "executionInfo": {
     "elapsed": 375,
     "status": "ok",
     "timestamp": 1648268924336,
     "user": {
      "displayName": "黃書璵",
      "photoUrl": "https://lh3.googleusercontent.com/a/default-user=s64",
      "userId": "16626369651643867989"
     },
     "user_tz": -480
    },
    "id": "lnmhXUQB02Zo",
    "outputId": "44ff83a8-feac-46fa-90ce-dd66e86e3ad3"
   },
   "outputs": [
    {
     "data": {
      "image/png": "[encoded data removed]",
      "text/plain": [
       "<Figure size 1296x1296 with 10 Axes>"
      ]
     },
     "metadata": {
      "needs_background": "light"
     },
     "output_type": "display_data"
    }
   ],
   "source": [
    "# 看target data\n",
    "example_files=[glob(f\"mnistm_half/mnist_train/{i}/*.png\")[0] for i in titles]\n",
    "show_data([*map(plt.imread,example_files)],titles)"
   ]
  },
  {
   "cell_type": "markdown",
   "id": "473f942d",
   "metadata": {
    "id": "tzc0L0lW2OSg"
   },
   "source": [
    "### 1.2 Data Loader設計\n",
    "這邊我們三個loader\n",
    "* source: 來源資料集，有MNIST圖片，也有對應的label\n",
    "* target: 目標資料集，只有少量MNIST-M 圖片，也有對應的label\n",
    "* test: 測試資料集，有MNIST-M圖片，也有對應的label\n",
    "\n",
    "Data Loader的要件:\n",
    "* dataset: torchvision的VisionDataset，我們這邊使用ImageFolder作，只要把圖片依照分類放進資料夾就能依照資料夾名稱指定分類：\n",
    "```\n",
    "data_root\n",
    "|--class 1\n",
    "|   |--image 1\n",
    "|   |--image 2\n",
    "|   ...\n",
    "|--class 2\n",
    "|   |--image 3\n",
    "...\n",
    "```\n",
    "* transform: augmentation function，這邊使用torchvision.transforms來做，也推薦[cv2 wrapaffine](https://theailearner.com/tag/cv2-warpaffine/)或者[aubmentation](https://github.com/albumentations-team/albumentations)，因為這是Deep Learning CV的基本所以這邊不多贅述。"
   ]
  },
  {
   "cell_type": "markdown",
   "id": "73818634",
   "metadata": {
    "id": "y46N-Nnt2eCA"
   },
   "source": [
    "* Transfer Learning Methods用的Loader:"
   ]
  },
  {
   "cell_type": "code",
   "execution_count": 6,
   "id": "6b3179c8",
   "metadata": {
    "executionInfo": {
     "elapsed": 677,
     "status": "ok",
     "timestamp": 1648268959105,
     "user": {
      "displayName": "黃書璵",
      "photoUrl": "https://lh3.googleusercontent.com/a/default-user=s64",
      "userId": "16626369651643867989"
     },
     "user_tz": -480
    },
    "id": "MkevDjlo2HkR"
   },
   "outputs": [],
   "source": [
    "import torchvision.transforms as tvt\n",
    "import torchvision.datasets as tvds\n",
    "\n",
    "train_transform = tvt.Compose([\n",
    "    tvt.RandomHorizontalFlip(),\n",
    "    # 旋轉15度內 (Augmentation)，旋轉後空的地方補0\n",
    "    tvt.RandomRotation(15, fill=(0,0,0)),\n",
    "    # 最後轉成Tensor供model使用。\n",
    "    tvt.ToTensor(),\n",
    "])\n",
    "test_transform = tvt.Compose([\n",
    "    tvt.ToTensor(),\n",
    "])\n",
    "\n",
    "# Source套用source的transform\n",
    "source_dataset = tvds.ImageFolder('mnistm_half/mnist_m_train', transform=train_transform)\n",
    "# Target套用target的transform\n",
    "target_dataset = tvds.ImageFolder('mnistm_half/mnist_train', transform=train_transform)\n",
    "# Testing與Target那邊一樣資料，但會把label拿起來算準確度\n",
    "test_dataset = tvds.ImageFolder('mnistm_half/mnist_test', transform=test_transform)"
   ]
  },
  {
   "cell_type": "code",
   "execution_count": 7,
   "id": "f925ce73",
   "metadata": {
    "executionInfo": {
     "elapsed": 274,
     "status": "ok",
     "timestamp": 1648268973575,
     "user": {
      "displayName": "黃書璵",
      "photoUrl": "https://lh3.googleusercontent.com/a/default-user=s64",
      "userId": "16626369651643867989"
     },
     "user_tz": -480
    },
    "id": "Y0jTF2UQN7Bf"
   },
   "outputs": [],
   "source": [
    "tgt_classes=glob(\"mnistm_half/mnist_train/*/\")"
   ]
  },
  {
   "cell_type": "code",
   "execution_count": 9,
   "id": "bb6a5bcd",
   "metadata": {
    "colab": {
     "base_uri": "https://localhost:8080/"
    },
    "executionInfo": {
     "elapsed": 267,
     "status": "ok",
     "timestamp": 1648269032059,
     "user": {
      "displayName": "黃書璵",
      "photoUrl": "https://lh3.googleusercontent.com/a/default-user=s64",
      "userId": "16626369651643867989"
     },
     "user_tz": -480
    },
    "id": "gH8GcEHIfWaT",
    "outputId": "448ccaf5-6fa9-4a0f-d95d-4ef6a0fac342"
   },
   "outputs": [
    {
     "data": {
      "text/plain": [
       "['mnistm_half/mnist_train/7/',\n",
       " 'mnistm_half/mnist_train/2/',\n",
       " 'mnistm_half/mnist_train/5/',\n",
       " 'mnistm_half/mnist_train/9/',\n",
       " 'mnistm_half/mnist_train/8/',\n",
       " 'mnistm_half/mnist_train/4/',\n",
       " 'mnistm_half/mnist_train/1/',\n",
       " 'mnistm_half/mnist_train/0/',\n",
       " 'mnistm_half/mnist_train/3/',\n",
       " 'mnistm_half/mnist_train/6/']"
      ]
     },
     "execution_count": 9,
     "metadata": {},
     "output_type": "execute_result"
    }
   ],
   "source": [
    "tgt_classes"
   ]
  },
  {
   "cell_type": "code",
   "execution_count": 8,
   "id": "a5a99945",
   "metadata": {
    "executionInfo": {
     "elapsed": 259,
     "status": "ok",
     "timestamp": 1648268978581,
     "user": {
      "displayName": "黃書璵",
      "photoUrl": "https://lh3.googleusercontent.com/a/default-user=s64",
      "userId": "16626369651643867989"
     },
     "user_tz": -480
    },
    "id": "n9H6pxP6SQUe"
   },
   "outputs": [],
   "source": [
    "WAYS=10\n",
    "SHOTS=5"
   ]
  },
  {
   "cell_type": "markdown",
   "id": "2f6ae8e5",
   "metadata": {
    "id": "i3hVab34E1Hm"
   },
   "source": [
    "使用Sampler可以抽特定class固定數量的資料"
   ]
  },
  {
   "cell_type": "code",
   "execution_count": 10,
   "id": "00405e28",
   "metadata": {
    "executionInfo": {
     "elapsed": 267,
     "status": "ok",
     "timestamp": 1648269062665,
     "user": {
      "displayName": "黃書璵",
      "photoUrl": "https://lh3.googleusercontent.com/a/default-user=s64",
      "userId": "16626369651643867989"
     },
     "user_tz": -480
    },
    "id": "DbBHPjsSWAmf"
   },
   "outputs": [],
   "source": [
    "from functools import partial\n",
    "from torch.utils import data as tud\n",
    "\n",
    "class FewShotSampler(tud.Sampler):\n",
    "    def __init__(self,data_source,classes,shots,repeats=100):\n",
    "        self.data_source=data_source\n",
    "        self.classes=classes\n",
    "        self.shots=shots\n",
    "        self.repeats=repeats\n",
    "        \n",
    "        self.class_samples=list(np.concatenate([*map(self.get_subset,classes)]))*self.repeats\n",
    "    def get_subset(self,c):\n",
    "        indices=np.random.permutation([ii for ii,(_,y) in enumerate(self.data_source.samples) if y==self.data_source.class_to_idx[c]])\n",
    "        return indices[:self.shots]\n",
    "    def __len__(self):\n",
    "        return len(self.class_samples)\n",
    "    def __iter__(self):\n",
    "        np.random.shuffle(self.class_samples)\n",
    "        return iter(self.class_samples)"
   ]
  },
  {
   "cell_type": "markdown",
   "id": "179c1fec",
   "metadata": {
    "id": "SsiHJrsM295o"
   },
   "source": [
    "* dataloader: torch 本身的dataloader class，可以將上述loader的function做batching，以及安排shuffle和多線程等動作"
   ]
  },
  {
   "cell_type": "code",
   "execution_count": 11,
   "id": "f9991b27",
   "metadata": {
    "executionInfo": {
     "elapsed": 273,
     "status": "ok",
     "timestamp": 1648269065894,
     "user": {
      "displayName": "黃書璵",
      "photoUrl": "https://lh3.googleusercontent.com/a/default-user=s64",
      "userId": "16626369651643867989"
     },
     "user_tz": -480
    },
    "id": "0B6ndI7o2HwQ"
   },
   "outputs": [],
   "source": [
    "from torch.utils.data import DataLoader\n",
    "# source跟target都使用小batch size\n",
    "BS_TRAIN=32\n",
    "BS_TEST=128\n",
    "source_dataloader=DataLoader(source_dataset, \n",
    "                    batch_size=BS_TRAIN,\n",
    "                    shuffle=True,\n",
    "                    num_workers=2,\n",
    "                    pin_memory=True)\n",
    "sampler=FewShotSampler(target_dataset,target_dataset.classes,SHOTS,repeats=100)\n",
    "target_dataloader=DataLoader(target_dataset, \n",
    "                    batch_size=WAYS*SHOTS,\n",
    "                    shuffle=False,\n",
    "                    num_workers=2,\n",
    "                    pin_memory=True,\n",
    "                    sampler=sampler)\n",
    "# test dataset因為沒有gradient紀錄，GPU記憶體用量較小，所以可以開大一點batch size\n",
    "test_dataloader = DataLoader(test_dataset,\n",
    "                batch_size=BS_TEST,\n",
    "                shuffle=False,\n",
    "                num_workers=2,\n",
    "                pin_memory=True)"
   ]
  },
  {
   "cell_type": "markdown",
   "id": "831ea9a9",
   "metadata": {
    "id": "kvIGtSdW24CY"
   },
   "source": [
    "## 2.模型訓練"
   ]
  },
  {
   "cell_type": "markdown",
   "id": "da682784",
   "metadata": {
    "id": "lxdBIPhF0Icb"
   },
   "source": [
    "### 2.1 Training Loss& Optimizer\n",
    "可以當成一般分類問題來給訂相關loss、optimizer\n",
    "\n",
    "**Loss function(criterion)**\n",
    "* CCE: nn.CrossEntropyLoss給label predictor output用\n",
    "* BCE: nn.BCEWithLogitsLoss給domain classifier output用"
   ]
  },
  {
   "cell_type": "code",
   "execution_count": 12,
   "id": "a658dc6b",
   "metadata": {
    "cellView": "form",
    "executionInfo": {
     "elapsed": 9091,
     "status": "ok",
     "timestamp": 1648269171289,
     "user": {
      "displayName": "黃書璵",
      "photoUrl": "https://lh3.googleusercontent.com/a/default-user=s64",
      "userId": "16626369651643867989"
     },
     "user_tz": -480
    },
    "id": "hogS97kR2r5w"
   },
   "outputs": [],
   "source": [
    "from torch import nn\n",
    "from nn_model import (FeatureExtractor,Baseline,MetricLayer,cosine,\n",
    "                    FocalLoss,AddMarginLoss,ArcMarginLoss)\n",
    "#@title Hyper Parameters\n",
    "#@markdown Latent space dimension\n",
    "latent_dims=16 #@param\n",
    "#@markdown Model (transfer learning): export model=ModelClass(*args)\n",
    "model_type=\"baseline++\" #@param [\"baseline\",\"baseline++\"]\n",
    "if model_type==\"baseline\":\n",
    "    head=nn.Linear(latent_dims,WAYS)\n",
    "elif model_type==\"baseline++\":\n",
    "    head=MetricLayer(latent_dims,WAYS,cosine)   \n",
    "else:\n",
    "    print(\"unrecognizable head\")\n",
    "backbone=FeatureExtractor(latent_features=latent_dims)\n",
    "model=Baseline(WAYS,backbone,head).cuda()\n",
    "#@markdown Loss (transfer learning): export criterion=LossClass(*args)\n",
    "loss_type=\"arcmargin\" #@param [\"cce\",\"focal\",\"addmargin\",\"arcmargin\"]\n",
    "if loss_type==\"cce\":\n",
    "    criterion = nn.CrossEntropyLoss()\n",
    "elif loss_type==\"focal\":\n",
    "    criterion = FocalLoss(gamma=2)\n",
    "elif loss_type==\"addmargin\":\n",
    "    criterion = AddMarginLoss(s=15.0, m=0.40,ways=WAYS,loss_fn=FocalLoss())\n",
    "elif loss_type==\"arcmargin\":\n",
    "    criterion = ArcMarginLoss(s=32.0, m=0.40,ways=WAYS, easy_margin=False,loss_fn=FocalLoss())\n",
    "else:\n",
    "    print(\"unrecognizable loss\")\n",
    "\n"
   ]
  },
  {
   "cell_type": "markdown",
   "id": "a9b094a5",
   "metadata": {
    "id": "hXmZr_IYr_xg"
   },
   "source": [
    "**Optimizer**\n",
    "* 這邊使用Adam來作optimization，且三個子模型要分開，因為每個訓練step會有兩個部分:\n",
    "    * 訓練domain classifier\n",
    "    * 訓練label predictor+feature extractor"
   ]
  },
  {
   "cell_type": "code",
   "execution_count": 13,
   "id": "a777dc84",
   "metadata": {
    "executionInfo": {
     "elapsed": 302,
     "status": "ok",
     "timestamp": 1648269182504,
     "user": {
      "displayName": "黃書璵",
      "photoUrl": "https://lh3.googleusercontent.com/a/default-user=s64",
      "userId": "16626369651643867989"
     },
     "user_tz": -480
    },
    "id": "hrxKelBy0PJ7"
   },
   "outputs": [],
   "source": [
    "import torch.optim as optim\n",
    "# 為了方便我們令一個class可以直接把dictionary key變成其attribute (可以直接用d.key)\n",
    "lr=0.001\n",
    "optimizer=optim.Adam(model.parameters(),lr=lr)"
   ]
  },
  {
   "cell_type": "markdown",
   "id": "c40104ac",
   "metadata": {
    "id": "A6-cytwps_jJ"
   },
   "source": [
    "若有調整model可以看一下summary確定axis數、每個axis維度是否如預期"
   ]
  },
  {
   "cell_type": "code",
   "execution_count": null,
   "id": "0371948b",
   "metadata": {
    "id": "d-Wm49CynRPw"
   },
   "outputs": [],
   "source": [
    "# from torchsummary import summary\n",
    "# summary(feature_extractor, (3, 224, 224))\n",
    "# summary(label_predictor, (3, 224, 224))\n",
    "# summary(domain_classifier, (3, 224, 224))"
   ]
  },
  {
   "cell_type": "markdown",
   "id": "97c84a73",
   "metadata": {
    "id": "xuAE4cqJ0itR"
   },
   "source": [
    "### 2.2 Training Parameters& Callbacks\n",
    "\n",
    "**Parameters**\n",
    "- EPOCHS: 先設一個很大的數，當訓練不下去時也可以手動停止\n",
    "- DISC_LOOPS: Discrimination可以比較多次一點，增加Discriminator強度\n",
    "\n",
    "**Callbacks**\n",
    "- Learning rate scheduling: ReduceLROnPlateau-模型訓練不下去時learning rate減少\n"
   ]
  },
  {
   "cell_type": "code",
   "execution_count": 14,
   "id": "29133a2d",
   "metadata": {
    "executionInfo": {
     "elapsed": 330,
     "status": "ok",
     "timestamp": 1648269192476,
     "user": {
      "displayName": "黃書璵",
      "photoUrl": "https://lh3.googleusercontent.com/a/default-user=s64",
      "userId": "16626369651643867989"
     },
     "user_tz": -480
    },
    "id": "rkadUL6ntuZ9"
   },
   "outputs": [],
   "source": [
    "EPOCHS=5\n",
    "# For scheduler\n",
    "# scheduler=optim.lr_scheduler.ReduceLROnPlateau(optimizer, mode='min', factor=0.1, patience=5)"
   ]
  },
  {
   "cell_type": "markdown",
   "id": "f08bcd52",
   "metadata": {
    "id": "MzfC2pxXyaru"
   },
   "source": [
    "### 2.3 Source data Training"
   ]
  },
  {
   "cell_type": "code",
   "execution_count": 16,
   "id": "2f4955f3",
   "metadata": {
    "executionInfo": {
     "elapsed": 378,
     "status": "ok",
     "timestamp": 1648269265599,
     "user": {
      "displayName": "黃書璵",
      "photoUrl": "https://lh3.googleusercontent.com/a/default-user=s64",
      "userId": "16626369651643867989"
     },
     "user_tz": -480
    },
    "id": "bNYshGoYHeZ6"
   },
   "outputs": [],
   "source": [
    "from tqdm.notebook import tqdm\n",
    "def train_epoch(epoch,model,criterion,optimizer,dataloader,adapt=False):\n",
    "    running_loss = 0.0 # Feature Extrator & Label Predictor的loss\n",
    "    total_hit, total_num = 0.0, 0.0 # total_hit: 計算目前對了幾筆 total_num: 目前經過了幾筆\n",
    "    session=tqdm(enumerate(dataloader))\n",
    "    for i, (data, label) in session:\n",
    "        data = data.cuda()\n",
    "        label = label.cuda()\n",
    "\n",
    "        # 訓練整個model\n",
    "        if not adapt:\n",
    "            class_logits = model(data)\n",
    "        # Adaptation時不訓練backbone\n",
    "        else:\n",
    "            with torch.no_grad():\n",
    "                latent = model.backbone(data)\n",
    "            # 不訓練backbone\n",
    "            class_logits=model.head(latent.detach())\n",
    "        # loss以指定的為主\n",
    "        loss = criterion(class_logits, label)\n",
    "        loss.backward()\n",
    "        \n",
    "        optimizer.step()\n",
    "        # scheduler.step(loss) # For scheduler\n",
    "        optimizer.zero_grad()\n",
    "\n",
    "        running_loss+= loss.item()\n",
    "        total_hit += torch.sum(torch.argmax(class_logits, dim=1) == label).item()\n",
    "        total_num += data.shape[0]\n",
    "\n",
    "        session.set_postfix({\"epoch\":epoch,\"loss\":loss.item(),\"acc\":total_hit / total_num})\n",
    "    return running_loss / (i+1), total_hit / total_num"
   ]
  },
  {
   "cell_type": "code",
   "execution_count": 17,
   "id": "cc906c5f",
   "metadata": {
    "colab": {
     "base_uri": "https://localhost:8080/",
     "height": 162,
     "referenced_widgets": [
      "f950bdbea0d5479ca23b11b735296332",
      "d7cc95ce33f94c9b87bdb5ae0cb67b86",
      "0d03944908234b7b9b28b908961cadd7",
      "7b54e82b0c21433f846774315afa18cc",
      "209de9925fa8486dac56b8d75fab3c52",
      "ee2cb3e5a91740919cc890d9b8322a71",
      "99094bf7b7ac48989ce94b37febf9f55",
      "8ead75e93d204acab838ea1f5a9456c3",
      "2651faab09b34c008cccecb17cac4937",
      "3e344099a43b4c7a9e2e545f6edf7bd6",
      "9b18baf55d1b4896a1fe0a3be8304cd9",
      "e226d5974a6648b1a34dc3bacb05018e",
      "78643348236241e4b1effbca95e550f9",
      "b31ab3ea5ed948f49f5ba5643a7703e3",
      "e72d319cbb964669af018cd532c2e22f",
      "454933a381e44198935fe77ddbbd716f",
      "c5247456d32b412f825769a9fb8b1b68",
      "6df9ef3db2b34365908548444e111c39",
      "a8a02b5eaffc4741a0e12b338712790c",
      "fc8675165f9d44e3b0027bcaa6c15fcf",
      "e65ab771b46547a09ff5587488118d3f",
      "757a3ed071414ec286ac58bd2f6d1f7f",
      "f9dfdfb2a8bb49f8af31bf7e57c7e069",
      "60e28c67714844b7aa33cd919388368c",
      "1062c75a31bb446ba0caf4714ef577c9",
      "bde32a49485b443b90951be1b0288f0a",
      "a4e837e795b14dbb9a5ca4dfb7e3903a",
      "aa268ca4b2e949f9ac0bee61f8cb0c7c",
      "8e0092ed19944642bf3a7d11e7932e0c",
      "20a41d6f90d74318b363c6bfc3ea3fc0",
      "42405f6e1c7740acbee462e6263639c5",
      "84fc9dffec9b451086e5a646713f43bc",
      "3cf6d9432bd74c9c893fa0cab959a305",
      "c00c387707be4899a67c631ebdc0382a",
      "22afff62784e45979e3ab1c8a545e27a",
      "736c7791b01a44a4bac79cacabe96b30",
      "d6bd7510d30947cc9ea0126fc52662dc",
      "3c60c3cb89064acc863ebce9750f5cfd",
      "7b01a9c0e15f4111b46a0b911c87ef21",
      "39d3db5676524c38bac75ab385d8a9f9",
      "8f6ac9a43683403fa7e96318d7161066",
      "fd8ddb7e3b0043748f7d41030a31790d",
      "265b163084364ae2b4929b4915c1651c",
      "7cb0f0035e064c94977f013f77bcfb02"
     ]
    },
    "executionInfo": {
     "elapsed": 82988,
     "status": "ok",
     "timestamp": 1648269351470,
     "user": {
      "displayName": "黃書璵",
      "photoUrl": "https://lh3.googleusercontent.com/a/default-user=s64",
      "userId": "16626369651643867989"
     },
     "user_tz": -480
    },
    "id": "lRAFFKvX0p9y",
    "outputId": "6ed7b085-ed0e-4648-fba6-1e2218471992"
   },
   "outputs": [
    {
     "data": {
      "application/vnd.jupyter.widget-view+json": {
       "model_id": "f950bdbea0d5479ca23b11b735296332",
       "version_major": 2,
       "version_minor": 0
      },
      "text/plain": [
       "0it [00:00, ?it/s]"
      ]
     },
     "metadata": {},
     "output_type": "display_data"
    },
    {
     "data": {
      "application/vnd.jupyter.widget-view+json": {
       "model_id": "e226d5974a6648b1a34dc3bacb05018e",
       "version_major": 2,
       "version_minor": 0
      },
      "text/plain": [
       "0it [00:00, ?it/s]"
      ]
     },
     "metadata": {},
     "output_type": "display_data"
    },
    {
     "data": {
      "application/vnd.jupyter.widget-view+json": {
       "model_id": "f9dfdfb2a8bb49f8af31bf7e57c7e069",
       "version_major": 2,
       "version_minor": 0
      },
      "text/plain": [
       "0it [00:00, ?it/s]"
      ]
     },
     "metadata": {},
     "output_type": "display_data"
    },
    {
     "data": {
      "application/vnd.jupyter.widget-view+json": {
       "model_id": "c00c387707be4899a67c631ebdc0382a",
       "version_major": 2,
       "version_minor": 0
      },
      "text/plain": [
       "0it [00:00, ?it/s]"
      ]
     },
     "metadata": {},
     "output_type": "display_data"
    },
    {
     "name": "stdout",
     "output_type": "stream",
     "text": [
      "KeyboardInterrupt\n"
     ]
    }
   ],
   "source": [
    "# 訓練 Source\n",
    "try:\n",
    "    for epoch in range(EPOCHS):\n",
    "        train_loss, train_acc = train_epoch(epoch,model,criterion,optimizer,source_dataloader,adapt=False)\n",
    "        torch.save(model.state_dict(), f'{model_type}_{loss_type}.bin')\n",
    "except KeyboardInterrupt:\n",
    "    print(\"KeyboardInterrupt\")"
   ]
  },
  {
   "cell_type": "markdown",
   "id": "66c3af73",
   "metadata": {
    "id": "IWbpQ4sVNMr4"
   },
   "source": [
    "## 3.預測&評估"
   ]
  },
  {
   "cell_type": "markdown",
   "id": "3a27609d",
   "metadata": {
    "id": "Nfs1c2GTeNfq"
   },
   "source": [
    "### 3.1 Evaluating Before Adaptation"
   ]
  },
  {
   "cell_type": "code",
   "execution_count": 18,
   "id": "27b8184a",
   "metadata": {
    "executionInfo": {
     "elapsed": 361,
     "status": "ok",
     "timestamp": 1648269357034,
     "user": {
      "displayName": "黃書璵",
      "photoUrl": "https://lh3.googleusercontent.com/a/default-user=s64",
      "userId": "16626369651643867989"
     },
     "user_tz": -480
    },
    "id": "zS35SWT3L7gj"
   },
   "outputs": [],
   "source": [
    "def run_test(model,data_loader):\n",
    "    result = []\n",
    "    total_test_hit, total_test_num = 0.0, 0.0\n",
    "    with torch.no_grad():\n",
    "        for i, (data,label) in enumerate(data_loader):\n",
    "            test_data = data.cuda()\n",
    "            test_label = label.cuda()\n",
    "\n",
    "            class_logits = model(test_data)\n",
    "\n",
    "            pred = torch.argmax(class_logits, dim=1).cpu().detach().numpy()\n",
    "            result.append(pred)\n",
    "            total_test_hit += torch.sum(torch.argmax(class_logits, dim=1) == test_label).item()\n",
    "            total_test_num += test_data.shape[0]\n",
    "\n",
    "    print(\"test acc:\",total_test_hit / total_test_num)\n",
    "    return result,total_test_hit / total_test_num"
   ]
  },
  {
   "cell_type": "code",
   "execution_count": 19,
   "id": "1b9cb94f",
   "metadata": {
    "colab": {
     "base_uri": "https://localhost:8080/"
    },
    "executionInfo": {
     "elapsed": 1729,
     "status": "ok",
     "timestamp": 1648269359129,
     "user": {
      "displayName": "黃書璵",
      "photoUrl": "https://lh3.googleusercontent.com/a/default-user=s64",
      "userId": "16626369651643867989"
     },
     "user_tz": -480
    },
    "id": "Dqm1VeRKMK7k",
    "outputId": "0635dd98-420c-4b60-e6ac-66fcbb73b40d"
   },
   "outputs": [
    {
     "name": "stdout",
     "output_type": "stream",
     "text": [
      "test acc: 0.2232\n"
     ]
    }
   ],
   "source": [
    "pred=run_test(model,test_dataloader)"
   ]
  },
  {
   "cell_type": "markdown",
   "id": "041f3022",
   "metadata": {
    "id": "0yTkbZdBfqC5"
   },
   "source": [
    "### 3.2 Target data Training"
   ]
  },
  {
   "cell_type": "code",
   "execution_count": 20,
   "id": "5c19f45f",
   "metadata": {
    "cellView": "form",
    "executionInfo": {
     "elapsed": 288,
     "status": "ok",
     "timestamp": 1648269397503,
     "user": {
      "displayName": "黃書璵",
      "photoUrl": "https://lh3.googleusercontent.com/a/default-user=s64",
      "userId": "16626369651643867989"
     },
     "user_tz": -480
    },
    "id": "-8ytoHoefkBr"
   },
   "outputs": [],
   "source": [
    "#@title Target Model Head\n",
    "#@markdown Model (transfer learning): export model_tgt=ModelClass(old_backbone,new_head)\n",
    "model_type=\"baseline++\" #@param [\"baseline\",\"baseline++\"]\n",
    "if model_type==\"baseline\":\n",
    "    head_tgt=nn.Linear(latent_dims,WAYS)\n",
    "elif model_type==\"baseline++\":\n",
    "    head_tgt=MetricLayer(latent_dims,WAYS,cosine)\n",
    "else:\n",
    "    print(\"unrecognizable head\")\n",
    "model_tgt=Baseline(WAYS,backbone,head_tgt).cuda()\n",
    "#@markdown Loss (transfer learning): export criterion=LossClass(*args)\n",
    "loss_type=\"arcmargin\" #@param [\"cce\",\"focal\",\"addmargin\",\"arcmargin\"]\n",
    "if loss_type==\"cce\":\n",
    "    criterion_tgt = nn.CrossEntropyLoss()\n",
    "elif loss_type==\"focal\":\n",
    "    criterion_tgt = FocalLoss(gamma=2)\n",
    "elif loss_type==\"addmargin\":\n",
    "    criterion_tgt = AddMarginLoss(s=15.0, m=0.40,ways=WAYS,loss_fn=FocalLoss())\n",
    "elif loss_type==\"arcmargin\":\n",
    "    criterion_tgt = ArcMarginLoss(s=32.0, m=0.40,ways=WAYS, easy_margin=False,loss_fn=FocalLoss())\n",
    "else:\n",
    "    print(\"unrecognizable loss\")\n",
    "model_tgt.backbone.eval()\n",
    "optimizer_tgt=optim.Adam(model_tgt.parameters(),lr=lr*10)"
   ]
  },
  {
   "cell_type": "code",
   "execution_count": 23,
   "id": "bf76551e",
   "metadata": {
    "colab": {
     "base_uri": "https://localhost:8080/"
    },
    "executionInfo": {
     "elapsed": 260,
     "status": "ok",
     "timestamp": 1648269420848,
     "user": {
      "displayName": "黃書璵",
      "photoUrl": "https://lh3.googleusercontent.com/a/default-user=s64",
      "userId": "16626369651643867989"
     },
     "user_tz": -480
    },
    "id": "tUVpIKLpqBBc",
    "outputId": "3c4dccfb-8c6f-4187-ece2-17b253a4b05c"
   },
   "outputs": [
    {
     "data": {
      "text/plain": [
       "tensor([ 0.0476,  0.0251,  0.0778,  0.0257,  0.0652, -0.0348, -0.0627, -0.0099,\n",
       "         0.0061,  0.0030, -0.0098,  0.0123,  0.0205, -0.0009,  0.0041,  0.0172,\n",
       "        -0.0444,  0.0179,  0.0228, -0.0080], device='cuda:0',\n",
       "       grad_fn=<SliceBackward0>)"
      ]
     },
     "execution_count": 23,
     "metadata": {},
     "output_type": "execute_result"
    }
   ],
   "source": [
    "# Random Inspect parameters before fine-tuning\n",
    "[*backbone.blocks[2].parameters()][-1][:20]"
   ]
  },
  {
   "cell_type": "code",
   "execution_count": 24,
   "id": "7ca78080",
   "metadata": {
    "colab": {
     "base_uri": "https://localhost:8080/",
     "height": 381,
     "referenced_widgets": [
      "6e6d8f18e29f494886c754ea29b756b4",
      "622461a09fe94eb58ffbb746e5104d06",
      "b63b193673c84e11980badbca082a3ac",
      "8a93b2a8d6ba4b1ea149f63a0634fcf7",
      "d63806f5d3c1496a8aa94168e9bc6dec",
      "a3c09c33a5bb49d9b762a02ea895d1e7",
      "c5ca555dcf29486887c367aea8e9e6a5",
      "d6662a8873bc467eaa0adc2aa92b6562",
      "ff89ea68c5e34426aefe8da699572eaa",
      "bc1f4b32e9f149a4840071684b5b568a",
      "14afd34ff74947d8a8a28448fd8c8389"
     ]
    },
    "executionInfo": {
     "elapsed": 3892,
     "status": "ok",
     "timestamp": 1648269445403,
     "user": {
      "displayName": "黃書璵",
      "photoUrl": "https://lh3.googleusercontent.com/a/default-user=s64",
      "userId": "16626369651643867989"
     },
     "user_tz": -480
    },
    "id": "Obh2CTOOHaHD",
    "outputId": "4f538b61-5c68-47d4-f9f8-410a11e7707d"
   },
   "outputs": [
    {
     "name": "stderr",
     "output_type": "stream",
     "text": [
      "Exception ignored in: <function _MultiProcessingDataLoaderIter.__del__ at 0x7fa8738edcb0>\n",
      "Traceback (most recent call last):\n",
      "Exception ignored in: <function _MultiProcessingDataLoaderIter.__del__ at 0x7fa8738edcb0>\n",
      "Traceback (most recent call last):\n",
      "  File \"/usr/local/lib/python3.7/dist-packages/torch/utils/data/dataloader.py\", line 1328, in __del__\n",
      "  File \"/usr/local/lib/python3.7/dist-packages/torch/utils/data/dataloader.py\", line 1328, in __del__\n",
      "    self._shutdown_workers()\n",
      "  File \"/usr/local/lib/python3.7/dist-packages/torch/utils/data/dataloader.py\", line 1320, in _shutdown_workers\n",
      "    if w.is_alive():\n",
      "  File \"/usr/lib/python3.7/multiprocessing/process.py\", line 151, in is_alive\n",
      "    assert self._parent_pid == os.getpid(), 'can only test a child process'\n",
      "AssertionError: can only test a child process\n",
      "    self._shutdown_workers()\n",
      "  File \"/usr/local/lib/python3.7/dist-packages/torch/utils/data/dataloader.py\", line 1320, in _shutdown_workers\n",
      "    if w.is_alive():\n",
      "  File \"/usr/lib/python3.7/multiprocessing/process.py\", line 151, in is_alive\n",
      "    assert self._parent_pid == os.getpid(), 'can only test a child process'\n",
      "AssertionError: can only test a child process\n"
     ]
    },
    {
     "data": {
      "application/vnd.jupyter.widget-view+json": {
       "model_id": "6e6d8f18e29f494886c754ea29b756b4",
       "version_major": 2,
       "version_minor": 0
      },
      "text/plain": [
       "0it [00:00, ?it/s]"
      ]
     },
     "metadata": {},
     "output_type": "display_data"
    }
   ],
   "source": [
    "# 訓練 target\n",
    "try:\n",
    "    train_loss, train_acc = train_epoch(epoch,model_tgt,criterion_tgt,optimizer_tgt,target_dataloader,adapt=True)\n",
    "    torch.save(model.state_dict(), f'{model_type}_{loss_type}_adapted.bin')\n",
    "except KeyboardInterrupt:\n",
    "    print(\"KeyboardInterrupt\")"
   ]
  },
  {
   "cell_type": "code",
   "execution_count": 25,
   "id": "56fa744d",
   "metadata": {
    "colab": {
     "base_uri": "https://localhost:8080/"
    },
    "executionInfo": {
     "elapsed": 248,
     "status": "ok",
     "timestamp": 1648269452397,
     "user": {
      "displayName": "黃書璵",
      "photoUrl": "https://lh3.googleusercontent.com/a/default-user=s64",
      "userId": "16626369651643867989"
     },
     "user_tz": -480
    },
    "id": "dQ0PFYwgIvnz",
    "outputId": "2b7ad151-aec2-436e-f8ea-b9a0b56845f7"
   },
   "outputs": [
    {
     "data": {
      "text/plain": [
       "tensor([ 0.0476,  0.0251,  0.0778,  0.0257,  0.0652, -0.0348, -0.0627, -0.0099,\n",
       "         0.0061,  0.0030, -0.0098,  0.0123,  0.0205, -0.0009,  0.0041,  0.0172,\n",
       "        -0.0444,  0.0179,  0.0228, -0.0080], device='cuda:0',\n",
       "       grad_fn=<SliceBackward0>)"
      ]
     },
     "execution_count": 25,
     "metadata": {},
     "output_type": "execute_result"
    }
   ],
   "source": [
    "# Random Inspect parameters after fine-tuning\n",
    "[*backbone.blocks[2].parameters()][-1][:20]"
   ]
  },
  {
   "cell_type": "code",
   "execution_count": 26,
   "id": "d819af04",
   "metadata": {
    "colab": {
     "base_uri": "https://localhost:8080/"
    },
    "executionInfo": {
     "elapsed": 2148,
     "status": "ok",
     "timestamp": 1648269467897,
     "user": {
      "displayName": "黃書璵",
      "photoUrl": "https://lh3.googleusercontent.com/a/default-user=s64",
      "userId": "16626369651643867989"
     },
     "user_tz": -480
    },
    "id": "hYf5Bd5FEOnT",
    "outputId": "cd7b4cae-f8a0-406c-b272-5af87c5f5fcf"
   },
   "outputs": [
    {
     "name": "stderr",
     "output_type": "stream",
     "text": [
      "Exception ignored in: <function _MultiProcessingDataLoaderIter.__del__ at 0x7fa8738edcb0>\n",
      "Exception ignored in: <function _MultiProcessingDataLoaderIter.__del__ at 0x7fa8738edcb0>\n",
      "Traceback (most recent call last):\n",
      "Traceback (most recent call last):\n",
      "  File \"/usr/local/lib/python3.7/dist-packages/torch/utils/data/dataloader.py\", line 1328, in __del__\n",
      "  File \"/usr/local/lib/python3.7/dist-packages/torch/utils/data/dataloader.py\", line 1328, in __del__\n",
      "    self._shutdown_workers()\n",
      "  File \"/usr/local/lib/python3.7/dist-packages/torch/utils/data/dataloader.py\", line 1320, in _shutdown_workers\n",
      "    self._shutdown_workers()\n",
      "  File \"/usr/local/lib/python3.7/dist-packages/torch/utils/data/dataloader.py\", line 1320, in _shutdown_workers\n",
      "    if w.is_alive():\n",
      "  File \"/usr/lib/python3.7/multiprocessing/process.py\", line 151, in is_alive\n",
      "    assert self._parent_pid == os.getpid(), 'can only test a child process'\n",
      "    if w.is_alive():\n",
      "AssertionError: can only test a child process\n",
      "  File \"/usr/lib/python3.7/multiprocessing/process.py\", line 151, in is_alive\n",
      "    assert self._parent_pid == os.getpid(), 'can only test a child process'\n",
      "AssertionError: can only test a child process\n"
     ]
    },
    {
     "name": "stdout",
     "output_type": "stream",
     "text": [
      "test acc: 0.9282\n"
     ]
    }
   ],
   "source": [
    "pred=run_test(model_tgt,test_dataloader)"
   ]
  },
  {
   "cell_type": "markdown",
   "id": "4641a850",
   "metadata": {
    "id": "6A0dd_zcNRUf"
   },
   "source": [
    "## 4.練習\n",
    "\n",
    "1. 這次練習的是使用雜色的MNIST-M做source，MNIST作為target訓練，請試著把兩個資料集倒過來\n",
    "2. 嘗試不同的source training組合:\n",
    "    - baseline & cce, baseline & focal loss\n",
    "    - baseline++ & cce, baseline++ & addmargin loss\n",
    "3. 嘗試不同target training組合:\n",
    "    - baseline(其實只換了head) & cce, baseline & focal loss\n",
    "    - baseline++(其實只換了head) & cce, baseline++ & arcmargin loss\n",
    "3. 嘗試減少latent space的dimension，試著調整其他超參數優化模型準確度\n",
    "4. 將target way數, shot數改變為5way 5 shot，試著調整其他超參數優化模型準確度"
   ]
  },
  {
   "cell_type": "markdown",
   "id": "015caf57",
   "metadata": {
    "id": "atB8ZDqGNSMV"
   },
   "source": [
    "\n",
    "## 5.參考資料"
   ]
  },
  {
   "cell_type": "markdown",
   "id": "7c77914e",
   "metadata": {
    "id": "wUiJSH05NiUe"
   },
   "source": [
    "* [Chen, W. Y., Liu, Y. C., Kira, Z., Wang, Y. C. F., & Huang, J. B. (2019). A closer look at few-shot classification. arXiv preprint arXiv:1904.04232.](https://arxiv.org/abs/1904.04232)\n",
    "    - Baseline++ 原文(台大王鈺強老師團隊)\n",
    "* [Lin, T. Y., Goyal, P., Girshick, R., He, K., & Dollár, P. (2017). Focal loss for dense object detection. In Proceedings of the IEEE international conference on computer vision (pp. 2980-2988). ](https://arxiv.org/abs/1708.02002v2)\n",
    "    - Focal Loss原文\n",
    "* [Wang, H., Wang, Y., Zhou, Z., Ji, X., Gong, D., Zhou, J., ... & Liu, W. (2018). Cosface: Large margin cosine loss for deep face recognition. In Proceedings of the IEEE conference on computer vision and pattern recognition (pp. 5265-5274).](https://arxiv.org/abs/1801.09414)\n",
    "    - CosineFace原文\n",
    "* [Deng, J., Guo, J., Xue, N., & Zafeiriou, S. (2019). Arcface: Additive angular margin loss for deep face recognition. In Proceedings of the IEEE/CVF conference on computer vision and pattern recognition (pp. 4690-4699).](https://arxiv.org/abs/1801.07698)\n",
    "    - ArcFace原文"
   ]
  }
 ],
 "metadata": {
  "accelerator": "GPU",
  "colab": {
   "collapsed_sections": [],
   "name": "3_Few Shot Learning- 2 Transfer Learning.ipynb",
   "provenance": [],
   "toc_visible": true
  },
  "kernelspec": {
   "display_name": "Python 3 (ipykernel)",
   "language": "python",
   "name": "python3"
  },
  "language_info": {
   "codemirror_mode": {
    "name": "ipython",
    "version": 3
   },
   "file_extension": ".py",
   "mimetype": "text/x-python",
   "name": "python",
   "nbconvert_exporter": "python",
   "pygments_lexer": "ipython3",
   "version": "3.7.10"
  },
  "widgets": {
   "application/vnd.jupyter.widget-state+json": {
    "0d03944908234b7b9b28b908961cadd7": {
     "model_module": "@jupyter-widgets/controls",
     "model_module_version": "1.5.0",
     "model_name": "FloatProgressModel",
     "state": {
      "_dom_classes": [],
      "_model_module": "@jupyter-widgets/controls",
      "_model_module_version": "1.5.0",
      "_model_name": "FloatProgressModel",
      "_view_count": null,
      "_view_module": "@jupyter-widgets/controls",
      "_view_module_version": "1.5.0",
      "_view_name": "ProgressView",
      "bar_style": "success",
      "description": "",
      "description_tooltip": null,
      "layout": "IPY_MODEL_8ead75e93d204acab838ea1f5a9456c3",
      "max": 1,
      "min": 0,
      "orientation": "horizontal",
      "style": "IPY_MODEL_2651faab09b34c008cccecb17cac4937",
      "value": 1
     }
    },
    "1062c75a31bb446ba0caf4714ef577c9": {
     "model_module": "@jupyter-widgets/controls",
     "model_module_version": "1.5.0",
     "model_name": "FloatProgressModel",
     "state": {
      "_dom_classes": [],
      "_model_module": "@jupyter-widgets/controls",
      "_model_module_version": "1.5.0",
      "_model_name": "FloatProgressModel",
      "_view_count": null,
      "_view_module": "@jupyter-widgets/controls",
      "_view_module_version": "1.5.0",
      "_view_name": "ProgressView",
      "bar_style": "success",
      "description": "",
      "description_tooltip": null,
      "layout": "IPY_MODEL_20a41d6f90d74318b363c6bfc3ea3fc0",
      "max": 1,
      "min": 0,
      "orientation": "horizontal",
      "style": "IPY_MODEL_42405f6e1c7740acbee462e6263639c5",
      "value": 1
     }
    },
    "14afd34ff74947d8a8a28448fd8c8389": {
     "model_module": "@jupyter-widgets/controls",
     "model_module_version": "1.5.0",
     "model_name": "DescriptionStyleModel",
     "state": {
      "_model_module": "@jupyter-widgets/controls",
      "_model_module_version": "1.5.0",
      "_model_name": "DescriptionStyleModel",
      "_view_count": null,
      "_view_module": "@jupyter-widgets/base",
      "_view_module_version": "1.2.0",
      "_view_name": "StyleView",
      "description_width": ""
     }
    },
    "209de9925fa8486dac56b8d75fab3c52": {
     "model_module": "@jupyter-widgets/base",
     "model_module_version": "1.2.0",
     "model_name": "LayoutModel",
     "state": {
      "_model_module": "@jupyter-widgets/base",
      "_model_module_version": "1.2.0",
      "_model_name": "LayoutModel",
      "_view_count": null,
      "_view_module": "@jupyter-widgets/base",
      "_view_module_version": "1.2.0",
      "_view_name": "LayoutView",
      "align_content": null,
      "align_items": null,
      "align_self": null,
      "border": null,
      "bottom": null,
      "display": null,
      "flex": null,
      "flex_flow": null,
      "grid_area": null,
      "grid_auto_columns": null,
      "grid_auto_flow": null,
      "grid_auto_rows": null,
      "grid_column": null,
      "grid_gap": null,
      "grid_row": null,
      "grid_template_areas": null,
      "grid_template_columns": null,
      "grid_template_rows": null,
      "height": null,
      "justify_content": null,
      "justify_items": null,
      "left": null,
      "margin": null,
      "max_height": null,
      "max_width": null,
      "min_height": null,
      "min_width": null,
      "object_fit": null,
      "object_position": null,
      "order": null,
      "overflow": null,
      "overflow_x": null,
      "overflow_y": null,
      "padding": null,
      "right": null,
      "top": null,
      "visibility": null,
      "width": null
     }
    },
    "20a41d6f90d74318b363c6bfc3ea3fc0": {
     "model_module": "@jupyter-widgets/base",
     "model_module_version": "1.2.0",
     "model_name": "LayoutModel",
     "state": {
      "_model_module": "@jupyter-widgets/base",
      "_model_module_version": "1.2.0",
      "_model_name": "LayoutModel",
      "_view_count": null,
      "_view_module": "@jupyter-widgets/base",
      "_view_module_version": "1.2.0",
      "_view_name": "LayoutView",
      "align_content": null,
      "align_items": null,
      "align_self": null,
      "border": null,
      "bottom": null,
      "display": null,
      "flex": null,
      "flex_flow": null,
      "grid_area": null,
      "grid_auto_columns": null,
      "grid_auto_flow": null,
      "grid_auto_rows": null,
      "grid_column": null,
      "grid_gap": null,
      "grid_row": null,
      "grid_template_areas": null,
      "grid_template_columns": null,
      "grid_template_rows": null,
      "height": null,
      "justify_content": null,
      "justify_items": null,
      "left": null,
      "margin": null,
      "max_height": null,
      "max_width": null,
      "min_height": null,
      "min_width": null,
      "object_fit": null,
      "object_position": null,
      "order": null,
      "overflow": null,
      "overflow_x": null,
      "overflow_y": null,
      "padding": null,
      "right": null,
      "top": null,
      "visibility": null,
      "width": "20px"
     }
    },
    "22afff62784e45979e3ab1c8a545e27a": {
     "model_module": "@jupyter-widgets/controls",
     "model_module_version": "1.5.0",
     "model_name": "HTMLModel",
     "state": {
      "_dom_classes": [],
      "_model_module": "@jupyter-widgets/controls",
      "_model_module_version": "1.5.0",
      "_model_name": "HTMLModel",
      "_view_count": null,
      "_view_module": "@jupyter-widgets/controls",
      "_view_module_version": "1.5.0",
      "_view_name": "HTMLView",
      "description": "",
      "description_tooltip": null,
      "layout": "IPY_MODEL_7b01a9c0e15f4111b46a0b911c87ef21",
      "placeholder": "​",
      "style": "IPY_MODEL_39d3db5676524c38bac75ab385d8a9f9",
      "value": ""
     }
    },
    "2651faab09b34c008cccecb17cac4937": {
     "model_module": "@jupyter-widgets/controls",
     "model_module_version": "1.5.0",
     "model_name": "ProgressStyleModel",
     "state": {
      "_model_module": "@jupyter-widgets/controls",
      "_model_module_version": "1.5.0",
      "_model_name": "ProgressStyleModel",
      "_view_count": null,
      "_view_module": "@jupyter-widgets/base",
      "_view_module_version": "1.2.0",
      "_view_name": "StyleView",
      "bar_color": null,
      "description_width": ""
     }
    },
    "265b163084364ae2b4929b4915c1651c": {
     "model_module": "@jupyter-widgets/base",
     "model_module_version": "1.2.0",
     "model_name": "LayoutModel",
     "state": {
      "_model_module": "@jupyter-widgets/base",
      "_model_module_version": "1.2.0",
      "_model_name": "LayoutModel",
      "_view_count": null,
      "_view_module": "@jupyter-widgets/base",
      "_view_module_version": "1.2.0",
      "_view_name": "LayoutView",
      "align_content": null,
      "align_items": null,
      "align_self": null,
      "border": null,
      "bottom": null,
      "display": null,
      "flex": null,
      "flex_flow": null,
      "grid_area": null,
      "grid_auto_columns": null,
      "grid_auto_flow": null,
      "grid_auto_rows": null,
      "grid_column": null,
      "grid_gap": null,
      "grid_row": null,
      "grid_template_areas": null,
      "grid_template_columns": null,
      "grid_template_rows": null,
      "height": null,
      "justify_content": null,
      "justify_items": null,
      "left": null,
      "margin": null,
      "max_height": null,
      "max_width": null,
      "min_height": null,
      "min_width": null,
      "object_fit": null,
      "object_position": null,
      "order": null,
      "overflow": null,
      "overflow_x": null,
      "overflow_y": null,
      "padding": null,
      "right": null,
      "top": null,
      "visibility": null,
      "width": null
     }
    },
    "39d3db5676524c38bac75ab385d8a9f9": {
     "model_module": "@jupyter-widgets/controls",
     "model_module_version": "1.5.0",
     "model_name": "DescriptionStyleModel",
     "state": {
      "_model_module": "@jupyter-widgets/controls",
      "_model_module_version": "1.5.0",
      "_model_name": "DescriptionStyleModel",
      "_view_count": null,
      "_view_module": "@jupyter-widgets/base",
      "_view_module_version": "1.2.0",
      "_view_name": "StyleView",
      "description_width": ""
     }
    },
    "3c60c3cb89064acc863ebce9750f5cfd": {
     "model_module": "@jupyter-widgets/base",
     "model_module_version": "1.2.0",
     "model_name": "LayoutModel",
     "state": {
      "_model_module": "@jupyter-widgets/base",
      "_model_module_version": "1.2.0",
      "_model_name": "LayoutModel",
      "_view_count": null,
      "_view_module": "@jupyter-widgets/base",
      "_view_module_version": "1.2.0",
      "_view_name": "LayoutView",
      "align_content": null,
      "align_items": null,
      "align_self": null,
      "border": null,
      "bottom": null,
      "display": null,
      "flex": null,
      "flex_flow": null,
      "grid_area": null,
      "grid_auto_columns": null,
      "grid_auto_flow": null,
      "grid_auto_rows": null,
      "grid_column": null,
      "grid_gap": null,
      "grid_row": null,
      "grid_template_areas": null,
      "grid_template_columns": null,
      "grid_template_rows": null,
      "height": null,
      "justify_content": null,
      "justify_items": null,
      "left": null,
      "margin": null,
      "max_height": null,
      "max_width": null,
      "min_height": null,
      "min_width": null,
      "object_fit": null,
      "object_position": null,
      "order": null,
      "overflow": null,
      "overflow_x": null,
      "overflow_y": null,
      "padding": null,
      "right": null,
      "top": null,
      "visibility": null,
      "width": null
     }
    },
    "3cf6d9432bd74c9c893fa0cab959a305": {
     "model_module": "@jupyter-widgets/controls",
     "model_module_version": "1.5.0",
     "model_name": "DescriptionStyleModel",
     "state": {
      "_model_module": "@jupyter-widgets/controls",
      "_model_module_version": "1.5.0",
      "_model_name": "DescriptionStyleModel",
      "_view_count": null,
      "_view_module": "@jupyter-widgets/base",
      "_view_module_version": "1.2.0",
      "_view_name": "StyleView",
      "description_width": ""
     }
    },
    "3e344099a43b4c7a9e2e545f6edf7bd6": {
     "model_module": "@jupyter-widgets/base",
     "model_module_version": "1.2.0",
     "model_name": "LayoutModel",
     "state": {
      "_model_module": "@jupyter-widgets/base",
      "_model_module_version": "1.2.0",
      "_model_name": "LayoutModel",
      "_view_count": null,
      "_view_module": "@jupyter-widgets/base",
      "_view_module_version": "1.2.0",
      "_view_name": "LayoutView",
      "align_content": null,
      "align_items": null,
      "align_self": null,
      "border": null,
      "bottom": null,
      "display": null,
      "flex": null,
      "flex_flow": null,
      "grid_area": null,
      "grid_auto_columns": null,
      "grid_auto_flow": null,
      "grid_auto_rows": null,
      "grid_column": null,
      "grid_gap": null,
      "grid_row": null,
      "grid_template_areas": null,
      "grid_template_columns": null,
      "grid_template_rows": null,
      "height": null,
      "justify_content": null,
      "justify_items": null,
      "left": null,
      "margin": null,
      "max_height": null,
      "max_width": null,
      "min_height": null,
      "min_width": null,
      "object_fit": null,
      "object_position": null,
      "order": null,
      "overflow": null,
      "overflow_x": null,
      "overflow_y": null,
      "padding": null,
      "right": null,
      "top": null,
      "visibility": null,
      "width": null
     }
    },
    "42405f6e1c7740acbee462e6263639c5": {
     "model_module": "@jupyter-widgets/controls",
     "model_module_version": "1.5.0",
     "model_name": "ProgressStyleModel",
     "state": {
      "_model_module": "@jupyter-widgets/controls",
      "_model_module_version": "1.5.0",
      "_model_name": "ProgressStyleModel",
      "_view_count": null,
      "_view_module": "@jupyter-widgets/base",
      "_view_module_version": "1.2.0",
      "_view_name": "StyleView",
      "bar_color": null,
      "description_width": ""
     }
    },
    "454933a381e44198935fe77ddbbd716f": {
     "model_module": "@jupyter-widgets/base",
     "model_module_version": "1.2.0",
     "model_name": "LayoutModel",
     "state": {
      "_model_module": "@jupyter-widgets/base",
      "_model_module_version": "1.2.0",
      "_model_name": "LayoutModel",
      "_view_count": null,
      "_view_module": "@jupyter-widgets/base",
      "_view_module_version": "1.2.0",
      "_view_name": "LayoutView",
      "align_content": null,
      "align_items": null,
      "align_self": null,
      "border": null,
      "bottom": null,
      "display": null,
      "flex": null,
      "flex_flow": null,
      "grid_area": null,
      "grid_auto_columns": null,
      "grid_auto_flow": null,
      "grid_auto_rows": null,
      "grid_column": null,
      "grid_gap": null,
      "grid_row": null,
      "grid_template_areas": null,
      "grid_template_columns": null,
      "grid_template_rows": null,
      "height": null,
      "justify_content": null,
      "justify_items": null,
      "left": null,
      "margin": null,
      "max_height": null,
      "max_width": null,
      "min_height": null,
      "min_width": null,
      "object_fit": null,
      "object_position": null,
      "order": null,
      "overflow": null,
      "overflow_x": null,
      "overflow_y": null,
      "padding": null,
      "right": null,
      "top": null,
      "visibility": null,
      "width": null
     }
    },
    "60e28c67714844b7aa33cd919388368c": {
     "model_module": "@jupyter-widgets/controls",
     "model_module_version": "1.5.0",
     "model_name": "HTMLModel",
     "state": {
      "_dom_classes": [],
      "_model_module": "@jupyter-widgets/controls",
      "_model_module_version": "1.5.0",
      "_model_name": "HTMLModel",
      "_view_count": null,
      "_view_module": "@jupyter-widgets/controls",
      "_view_module_version": "1.5.0",
      "_view_name": "HTMLView",
      "description": "",
      "description_tooltip": null,
      "layout": "IPY_MODEL_aa268ca4b2e949f9ac0bee61f8cb0c7c",
      "placeholder": "​",
      "style": "IPY_MODEL_8e0092ed19944642bf3a7d11e7932e0c",
      "value": ""
     }
    },
    "622461a09fe94eb58ffbb746e5104d06": {
     "model_module": "@jupyter-widgets/controls",
     "model_module_version": "1.5.0",
     "model_name": "HTMLModel",
     "state": {
      "_dom_classes": [],
      "_model_module": "@jupyter-widgets/controls",
      "_model_module_version": "1.5.0",
      "_model_name": "HTMLModel",
      "_view_count": null,
      "_view_module": "@jupyter-widgets/controls",
      "_view_module_version": "1.5.0",
      "_view_name": "HTMLView",
      "description": "",
      "description_tooltip": null,
      "layout": "IPY_MODEL_a3c09c33a5bb49d9b762a02ea895d1e7",
      "placeholder": "​",
      "style": "IPY_MODEL_c5ca555dcf29486887c367aea8e9e6a5",
      "value": ""
     }
    },
    "6df9ef3db2b34365908548444e111c39": {
     "model_module": "@jupyter-widgets/controls",
     "model_module_version": "1.5.0",
     "model_name": "DescriptionStyleModel",
     "state": {
      "_model_module": "@jupyter-widgets/controls",
      "_model_module_version": "1.5.0",
      "_model_name": "DescriptionStyleModel",
      "_view_count": null,
      "_view_module": "@jupyter-widgets/base",
      "_view_module_version": "1.2.0",
      "_view_name": "StyleView",
      "description_width": ""
     }
    },
    "6e6d8f18e29f494886c754ea29b756b4": {
     "model_module": "@jupyter-widgets/controls",
     "model_module_version": "1.5.0",
     "model_name": "HBoxModel",
     "state": {
      "_dom_classes": [],
      "_model_module": "@jupyter-widgets/controls",
      "_model_module_version": "1.5.0",
      "_model_name": "HBoxModel",
      "_view_count": null,
      "_view_module": "@jupyter-widgets/controls",
      "_view_module_version": "1.5.0",
      "_view_name": "HBoxView",
      "box_style": "",
      "children": [
       "IPY_MODEL_622461a09fe94eb58ffbb746e5104d06",
       "IPY_MODEL_b63b193673c84e11980badbca082a3ac",
       "IPY_MODEL_8a93b2a8d6ba4b1ea149f63a0634fcf7"
      ],
      "layout": "IPY_MODEL_d63806f5d3c1496a8aa94168e9bc6dec"
     }
    },
    "736c7791b01a44a4bac79cacabe96b30": {
     "model_module": "@jupyter-widgets/controls",
     "model_module_version": "1.5.0",
     "model_name": "FloatProgressModel",
     "state": {
      "_dom_classes": [],
      "_model_module": "@jupyter-widgets/controls",
      "_model_module_version": "1.5.0",
      "_model_name": "FloatProgressModel",
      "_view_count": null,
      "_view_module": "@jupyter-widgets/controls",
      "_view_module_version": "1.5.0",
      "_view_name": "ProgressView",
      "bar_style": "danger",
      "description": "",
      "description_tooltip": null,
      "layout": "IPY_MODEL_8f6ac9a43683403fa7e96318d7161066",
      "max": 1,
      "min": 0,
      "orientation": "horizontal",
      "style": "IPY_MODEL_fd8ddb7e3b0043748f7d41030a31790d",
      "value": 1
     }
    },
    "757a3ed071414ec286ac58bd2f6d1f7f": {
     "model_module": "@jupyter-widgets/controls",
     "model_module_version": "1.5.0",
     "model_name": "DescriptionStyleModel",
     "state": {
      "_model_module": "@jupyter-widgets/controls",
      "_model_module_version": "1.5.0",
      "_model_name": "DescriptionStyleModel",
      "_view_count": null,
      "_view_module": "@jupyter-widgets/base",
      "_view_module_version": "1.2.0",
      "_view_name": "StyleView",
      "description_width": ""
     }
    },
    "78643348236241e4b1effbca95e550f9": {
     "model_module": "@jupyter-widgets/controls",
     "model_module_version": "1.5.0",
     "model_name": "HTMLModel",
     "state": {
      "_dom_classes": [],
      "_model_module": "@jupyter-widgets/controls",
      "_model_module_version": "1.5.0",
      "_model_name": "HTMLModel",
      "_view_count": null,
      "_view_module": "@jupyter-widgets/controls",
      "_view_module_version": "1.5.0",
      "_view_name": "HTMLView",
      "description": "",
      "description_tooltip": null,
      "layout": "IPY_MODEL_c5247456d32b412f825769a9fb8b1b68",
      "placeholder": "​",
      "style": "IPY_MODEL_6df9ef3db2b34365908548444e111c39",
      "value": ""
     }
    },
    "7b01a9c0e15f4111b46a0b911c87ef21": {
     "model_module": "@jupyter-widgets/base",
     "model_module_version": "1.2.0",
     "model_name": "LayoutModel",
     "state": {
      "_model_module": "@jupyter-widgets/base",
      "_model_module_version": "1.2.0",
      "_model_name": "LayoutModel",
      "_view_count": null,
      "_view_module": "@jupyter-widgets/base",
      "_view_module_version": "1.2.0",
      "_view_name": "LayoutView",
      "align_content": null,
      "align_items": null,
      "align_self": null,
      "border": null,
      "bottom": null,
      "display": null,
      "flex": null,
      "flex_flow": null,
      "grid_area": null,
      "grid_auto_columns": null,
      "grid_auto_flow": null,
      "grid_auto_rows": null,
      "grid_column": null,
      "grid_gap": null,
      "grid_row": null,
      "grid_template_areas": null,
      "grid_template_columns": null,
      "grid_template_rows": null,
      "height": null,
      "justify_content": null,
      "justify_items": null,
      "left": null,
      "margin": null,
      "max_height": null,
      "max_width": null,
      "min_height": null,
      "min_width": null,
      "object_fit": null,
      "object_position": null,
      "order": null,
      "overflow": null,
      "overflow_x": null,
      "overflow_y": null,
      "padding": null,
      "right": null,
      "top": null,
      "visibility": null,
      "width": null
     }
    },
    "7b54e82b0c21433f846774315afa18cc": {
     "model_module": "@jupyter-widgets/controls",
     "model_module_version": "1.5.0",
     "model_name": "HTMLModel",
     "state": {
      "_dom_classes": [],
      "_model_module": "@jupyter-widgets/controls",
      "_model_module_version": "1.5.0",
      "_model_name": "HTMLModel",
      "_view_count": null,
      "_view_module": "@jupyter-widgets/controls",
      "_view_module_version": "1.5.0",
      "_view_name": "HTMLView",
      "description": "",
      "description_tooltip": null,
      "layout": "IPY_MODEL_3e344099a43b4c7a9e2e545f6edf7bd6",
      "placeholder": "​",
      "style": "IPY_MODEL_9b18baf55d1b4896a1fe0a3be8304cd9",
      "value": " 938/? [00:27&lt;00:00, 37.47it/s, epoch=0, loss=5.56, acc=0.664]"
     }
    },
    "7cb0f0035e064c94977f013f77bcfb02": {
     "model_module": "@jupyter-widgets/controls",
     "model_module_version": "1.5.0",
     "model_name": "DescriptionStyleModel",
     "state": {
      "_model_module": "@jupyter-widgets/controls",
      "_model_module_version": "1.5.0",
      "_model_name": "DescriptionStyleModel",
      "_view_count": null,
      "_view_module": "@jupyter-widgets/base",
      "_view_module_version": "1.2.0",
      "_view_name": "StyleView",
      "description_width": ""
     }
    },
    "84fc9dffec9b451086e5a646713f43bc": {
     "model_module": "@jupyter-widgets/base",
     "model_module_version": "1.2.0",
     "model_name": "LayoutModel",
     "state": {
      "_model_module": "@jupyter-widgets/base",
      "_model_module_version": "1.2.0",
      "_model_name": "LayoutModel",
      "_view_count": null,
      "_view_module": "@jupyter-widgets/base",
      "_view_module_version": "1.2.0",
      "_view_name": "LayoutView",
      "align_content": null,
      "align_items": null,
      "align_self": null,
      "border": null,
      "bottom": null,
      "display": null,
      "flex": null,
      "flex_flow": null,
      "grid_area": null,
      "grid_auto_columns": null,
      "grid_auto_flow": null,
      "grid_auto_rows": null,
      "grid_column": null,
      "grid_gap": null,
      "grid_row": null,
      "grid_template_areas": null,
      "grid_template_columns": null,
      "grid_template_rows": null,
      "height": null,
      "justify_content": null,
      "justify_items": null,
      "left": null,
      "margin": null,
      "max_height": null,
      "max_width": null,
      "min_height": null,
      "min_width": null,
      "object_fit": null,
      "object_position": null,
      "order": null,
      "overflow": null,
      "overflow_x": null,
      "overflow_y": null,
      "padding": null,
      "right": null,
      "top": null,
      "visibility": null,
      "width": null
     }
    },
    "8a93b2a8d6ba4b1ea149f63a0634fcf7": {
     "model_module": "@jupyter-widgets/controls",
     "model_module_version": "1.5.0",
     "model_name": "HTMLModel",
     "state": {
      "_dom_classes": [],
      "_model_module": "@jupyter-widgets/controls",
      "_model_module_version": "1.5.0",
      "_model_name": "HTMLModel",
      "_view_count": null,
      "_view_module": "@jupyter-widgets/controls",
      "_view_module_version": "1.5.0",
      "_view_name": "HTMLView",
      "description": "",
      "description_tooltip": null,
      "layout": "IPY_MODEL_bc1f4b32e9f149a4840071684b5b568a",
      "placeholder": "​",
      "style": "IPY_MODEL_14afd34ff74947d8a8a28448fd8c8389",
      "value": " 100/? [00:03&lt;00:00, 30.38it/s, epoch=3, loss=2.12, acc=0.73]"
     }
    },
    "8e0092ed19944642bf3a7d11e7932e0c": {
     "model_module": "@jupyter-widgets/controls",
     "model_module_version": "1.5.0",
     "model_name": "DescriptionStyleModel",
     "state": {
      "_model_module": "@jupyter-widgets/controls",
      "_model_module_version": "1.5.0",
      "_model_name": "DescriptionStyleModel",
      "_view_count": null,
      "_view_module": "@jupyter-widgets/base",
      "_view_module_version": "1.2.0",
      "_view_name": "StyleView",
      "description_width": ""
     }
    },
    "8ead75e93d204acab838ea1f5a9456c3": {
     "model_module": "@jupyter-widgets/base",
     "model_module_version": "1.2.0",
     "model_name": "LayoutModel",
     "state": {
      "_model_module": "@jupyter-widgets/base",
      "_model_module_version": "1.2.0",
      "_model_name": "LayoutModel",
      "_view_count": null,
      "_view_module": "@jupyter-widgets/base",
      "_view_module_version": "1.2.0",
      "_view_name": "LayoutView",
      "align_content": null,
      "align_items": null,
      "align_self": null,
      "border": null,
      "bottom": null,
      "display": null,
      "flex": null,
      "flex_flow": null,
      "grid_area": null,
      "grid_auto_columns": null,
      "grid_auto_flow": null,
      "grid_auto_rows": null,
      "grid_column": null,
      "grid_gap": null,
      "grid_row": null,
      "grid_template_areas": null,
      "grid_template_columns": null,
      "grid_template_rows": null,
      "height": null,
      "justify_content": null,
      "justify_items": null,
      "left": null,
      "margin": null,
      "max_height": null,
      "max_width": null,
      "min_height": null,
      "min_width": null,
      "object_fit": null,
      "object_position": null,
      "order": null,
      "overflow": null,
      "overflow_x": null,
      "overflow_y": null,
      "padding": null,
      "right": null,
      "top": null,
      "visibility": null,
      "width": "20px"
     }
    },
    "8f6ac9a43683403fa7e96318d7161066": {
     "model_module": "@jupyter-widgets/base",
     "model_module_version": "1.2.0",
     "model_name": "LayoutModel",
     "state": {
      "_model_module": "@jupyter-widgets/base",
      "_model_module_version": "1.2.0",
      "_model_name": "LayoutModel",
      "_view_count": null,
      "_view_module": "@jupyter-widgets/base",
      "_view_module_version": "1.2.0",
      "_view_name": "LayoutView",
      "align_content": null,
      "align_items": null,
      "align_self": null,
      "border": null,
      "bottom": null,
      "display": null,
      "flex": null,
      "flex_flow": null,
      "grid_area": null,
      "grid_auto_columns": null,
      "grid_auto_flow": null,
      "grid_auto_rows": null,
      "grid_column": null,
      "grid_gap": null,
      "grid_row": null,
      "grid_template_areas": null,
      "grid_template_columns": null,
      "grid_template_rows": null,
      "height": null,
      "justify_content": null,
      "justify_items": null,
      "left": null,
      "margin": null,
      "max_height": null,
      "max_width": null,
      "min_height": null,
      "min_width": null,
      "object_fit": null,
      "object_position": null,
      "order": null,
      "overflow": null,
      "overflow_x": null,
      "overflow_y": null,
      "padding": null,
      "right": null,
      "top": null,
      "visibility": null,
      "width": "20px"
     }
    },
    "99094bf7b7ac48989ce94b37febf9f55": {
     "model_module": "@jupyter-widgets/controls",
     "model_module_version": "1.5.0",
     "model_name": "DescriptionStyleModel",
     "state": {
      "_model_module": "@jupyter-widgets/controls",
      "_model_module_version": "1.5.0",
      "_model_name": "DescriptionStyleModel",
      "_view_count": null,
      "_view_module": "@jupyter-widgets/base",
      "_view_module_version": "1.2.0",
      "_view_name": "StyleView",
      "description_width": ""
     }
    },
    "9b18baf55d1b4896a1fe0a3be8304cd9": {
     "model_module": "@jupyter-widgets/controls",
     "model_module_version": "1.5.0",
     "model_name": "DescriptionStyleModel",
     "state": {
      "_model_module": "@jupyter-widgets/controls",
      "_model_module_version": "1.5.0",
      "_model_name": "DescriptionStyleModel",
      "_view_count": null,
      "_view_module": "@jupyter-widgets/base",
      "_view_module_version": "1.2.0",
      "_view_name": "StyleView",
      "description_width": ""
     }
    },
    "a3c09c33a5bb49d9b762a02ea895d1e7": {
     "model_module": "@jupyter-widgets/base",
     "model_module_version": "1.2.0",
     "model_name": "LayoutModel",
     "state": {
      "_model_module": "@jupyter-widgets/base",
      "_model_module_version": "1.2.0",
      "_model_name": "LayoutModel",
      "_view_count": null,
      "_view_module": "@jupyter-widgets/base",
      "_view_module_version": "1.2.0",
      "_view_name": "LayoutView",
      "align_content": null,
      "align_items": null,
      "align_self": null,
      "border": null,
      "bottom": null,
      "display": null,
      "flex": null,
      "flex_flow": null,
      "grid_area": null,
      "grid_auto_columns": null,
      "grid_auto_flow": null,
      "grid_auto_rows": null,
      "grid_column": null,
      "grid_gap": null,
      "grid_row": null,
      "grid_template_areas": null,
      "grid_template_columns": null,
      "grid_template_rows": null,
      "height": null,
      "justify_content": null,
      "justify_items": null,
      "left": null,
      "margin": null,
      "max_height": null,
      "max_width": null,
      "min_height": null,
      "min_width": null,
      "object_fit": null,
      "object_position": null,
      "order": null,
      "overflow": null,
      "overflow_x": null,
      "overflow_y": null,
      "padding": null,
      "right": null,
      "top": null,
      "visibility": null,
      "width": null
     }
    },
    "a4e837e795b14dbb9a5ca4dfb7e3903a": {
     "model_module": "@jupyter-widgets/base",
     "model_module_version": "1.2.0",
     "model_name": "LayoutModel",
     "state": {
      "_model_module": "@jupyter-widgets/base",
      "_model_module_version": "1.2.0",
      "_model_name": "LayoutModel",
      "_view_count": null,
      "_view_module": "@jupyter-widgets/base",
      "_view_module_version": "1.2.0",
      "_view_name": "LayoutView",
      "align_content": null,
      "align_items": null,
      "align_self": null,
      "border": null,
      "bottom": null,
      "display": null,
      "flex": null,
      "flex_flow": null,
      "grid_area": null,
      "grid_auto_columns": null,
      "grid_auto_flow": null,
      "grid_auto_rows": null,
      "grid_column": null,
      "grid_gap": null,
      "grid_row": null,
      "grid_template_areas": null,
      "grid_template_columns": null,
      "grid_template_rows": null,
      "height": null,
      "justify_content": null,
      "justify_items": null,
      "left": null,
      "margin": null,
      "max_height": null,
      "max_width": null,
      "min_height": null,
      "min_width": null,
      "object_fit": null,
      "object_position": null,
      "order": null,
      "overflow": null,
      "overflow_x": null,
      "overflow_y": null,
      "padding": null,
      "right": null,
      "top": null,
      "visibility": null,
      "width": null
     }
    },
    "a8a02b5eaffc4741a0e12b338712790c": {
     "model_module": "@jupyter-widgets/base",
     "model_module_version": "1.2.0",
     "model_name": "LayoutModel",
     "state": {
      "_model_module": "@jupyter-widgets/base",
      "_model_module_version": "1.2.0",
      "_model_name": "LayoutModel",
      "_view_count": null,
      "_view_module": "@jupyter-widgets/base",
      "_view_module_version": "1.2.0",
      "_view_name": "LayoutView",
      "align_content": null,
      "align_items": null,
      "align_self": null,
      "border": null,
      "bottom": null,
      "display": null,
      "flex": null,
      "flex_flow": null,
      "grid_area": null,
      "grid_auto_columns": null,
      "grid_auto_flow": null,
      "grid_auto_rows": null,
      "grid_column": null,
      "grid_gap": null,
      "grid_row": null,
      "grid_template_areas": null,
      "grid_template_columns": null,
      "grid_template_rows": null,
      "height": null,
      "justify_content": null,
      "justify_items": null,
      "left": null,
      "margin": null,
      "max_height": null,
      "max_width": null,
      "min_height": null,
      "min_width": null,
      "object_fit": null,
      "object_position": null,
      "order": null,
      "overflow": null,
      "overflow_x": null,
      "overflow_y": null,
      "padding": null,
      "right": null,
      "top": null,
      "visibility": null,
      "width": "20px"
     }
    },
    "aa268ca4b2e949f9ac0bee61f8cb0c7c": {
     "model_module": "@jupyter-widgets/base",
     "model_module_version": "1.2.0",
     "model_name": "LayoutModel",
     "state": {
      "_model_module": "@jupyter-widgets/base",
      "_model_module_version": "1.2.0",
      "_model_name": "LayoutModel",
      "_view_count": null,
      "_view_module": "@jupyter-widgets/base",
      "_view_module_version": "1.2.0",
      "_view_name": "LayoutView",
      "align_content": null,
      "align_items": null,
      "align_self": null,
      "border": null,
      "bottom": null,
      "display": null,
      "flex": null,
      "flex_flow": null,
      "grid_area": null,
      "grid_auto_columns": null,
      "grid_auto_flow": null,
      "grid_auto_rows": null,
      "grid_column": null,
      "grid_gap": null,
      "grid_row": null,
      "grid_template_areas": null,
      "grid_template_columns": null,
      "grid_template_rows": null,
      "height": null,
      "justify_content": null,
      "justify_items": null,
      "left": null,
      "margin": null,
      "max_height": null,
      "max_width": null,
      "min_height": null,
      "min_width": null,
      "object_fit": null,
      "object_position": null,
      "order": null,
      "overflow": null,
      "overflow_x": null,
      "overflow_y": null,
      "padding": null,
      "right": null,
      "top": null,
      "visibility": null,
      "width": null
     }
    },
    "b31ab3ea5ed948f49f5ba5643a7703e3": {
     "model_module": "@jupyter-widgets/controls",
     "model_module_version": "1.5.0",
     "model_name": "FloatProgressModel",
     "state": {
      "_dom_classes": [],
      "_model_module": "@jupyter-widgets/controls",
      "_model_module_version": "1.5.0",
      "_model_name": "FloatProgressModel",
      "_view_count": null,
      "_view_module": "@jupyter-widgets/controls",
      "_view_module_version": "1.5.0",
      "_view_name": "ProgressView",
      "bar_style": "success",
      "description": "",
      "description_tooltip": null,
      "layout": "IPY_MODEL_a8a02b5eaffc4741a0e12b338712790c",
      "max": 1,
      "min": 0,
      "orientation": "horizontal",
      "style": "IPY_MODEL_fc8675165f9d44e3b0027bcaa6c15fcf",
      "value": 1
     }
    },
    "b63b193673c84e11980badbca082a3ac": {
     "model_module": "@jupyter-widgets/controls",
     "model_module_version": "1.5.0",
     "model_name": "FloatProgressModel",
     "state": {
      "_dom_classes": [],
      "_model_module": "@jupyter-widgets/controls",
      "_model_module_version": "1.5.0",
      "_model_name": "FloatProgressModel",
      "_view_count": null,
      "_view_module": "@jupyter-widgets/controls",
      "_view_module_version": "1.5.0",
      "_view_name": "ProgressView",
      "bar_style": "success",
      "description": "",
      "description_tooltip": null,
      "layout": "IPY_MODEL_d6662a8873bc467eaa0adc2aa92b6562",
      "max": 1,
      "min": 0,
      "orientation": "horizontal",
      "style": "IPY_MODEL_ff89ea68c5e34426aefe8da699572eaa",
      "value": 1
     }
    },
    "bc1f4b32e9f149a4840071684b5b568a": {
     "model_module": "@jupyter-widgets/base",
     "model_module_version": "1.2.0",
     "model_name": "LayoutModel",
     "state": {
      "_model_module": "@jupyter-widgets/base",
      "_model_module_version": "1.2.0",
      "_model_name": "LayoutModel",
      "_view_count": null,
      "_view_module": "@jupyter-widgets/base",
      "_view_module_version": "1.2.0",
      "_view_name": "LayoutView",
      "align_content": null,
      "align_items": null,
      "align_self": null,
      "border": null,
      "bottom": null,
      "display": null,
      "flex": null,
      "flex_flow": null,
      "grid_area": null,
      "grid_auto_columns": null,
      "grid_auto_flow": null,
      "grid_auto_rows": null,
      "grid_column": null,
      "grid_gap": null,
      "grid_row": null,
      "grid_template_areas": null,
      "grid_template_columns": null,
      "grid_template_rows": null,
      "height": null,
      "justify_content": null,
      "justify_items": null,
      "left": null,
      "margin": null,
      "max_height": null,
      "max_width": null,
      "min_height": null,
      "min_width": null,
      "object_fit": null,
      "object_position": null,
      "order": null,
      "overflow": null,
      "overflow_x": null,
      "overflow_y": null,
      "padding": null,
      "right": null,
      "top": null,
      "visibility": null,
      "width": null
     }
    },
    "bde32a49485b443b90951be1b0288f0a": {
     "model_module": "@jupyter-widgets/controls",
     "model_module_version": "1.5.0",
     "model_name": "HTMLModel",
     "state": {
      "_dom_classes": [],
      "_model_module": "@jupyter-widgets/controls",
      "_model_module_version": "1.5.0",
      "_model_name": "HTMLModel",
      "_view_count": null,
      "_view_module": "@jupyter-widgets/controls",
      "_view_module_version": "1.5.0",
      "_view_name": "HTMLView",
      "description": "",
      "description_tooltip": null,
      "layout": "IPY_MODEL_84fc9dffec9b451086e5a646713f43bc",
      "placeholder": "​",
      "style": "IPY_MODEL_3cf6d9432bd74c9c893fa0cab959a305",
      "value": " 938/? [00:26&lt;00:00, 38.41it/s, epoch=2, loss=2.01, acc=0.873]"
     }
    },
    "c00c387707be4899a67c631ebdc0382a": {
     "model_module": "@jupyter-widgets/controls",
     "model_module_version": "1.5.0",
     "model_name": "HBoxModel",
     "state": {
      "_dom_classes": [],
      "_model_module": "@jupyter-widgets/controls",
      "_model_module_version": "1.5.0",
      "_model_name": "HBoxModel",
      "_view_count": null,
      "_view_module": "@jupyter-widgets/controls",
      "_view_module_version": "1.5.0",
      "_view_name": "HBoxView",
      "box_style": "",
      "children": [
       "IPY_MODEL_22afff62784e45979e3ab1c8a545e27a",
       "IPY_MODEL_736c7791b01a44a4bac79cacabe96b30",
       "IPY_MODEL_d6bd7510d30947cc9ea0126fc52662dc"
      ],
      "layout": "IPY_MODEL_3c60c3cb89064acc863ebce9750f5cfd"
     }
    },
    "c5247456d32b412f825769a9fb8b1b68": {
     "model_module": "@jupyter-widgets/base",
     "model_module_version": "1.2.0",
     "model_name": "LayoutModel",
     "state": {
      "_model_module": "@jupyter-widgets/base",
      "_model_module_version": "1.2.0",
      "_model_name": "LayoutModel",
      "_view_count": null,
      "_view_module": "@jupyter-widgets/base",
      "_view_module_version": "1.2.0",
      "_view_name": "LayoutView",
      "align_content": null,
      "align_items": null,
      "align_self": null,
      "border": null,
      "bottom": null,
      "display": null,
      "flex": null,
      "flex_flow": null,
      "grid_area": null,
      "grid_auto_columns": null,
      "grid_auto_flow": null,
      "grid_auto_rows": null,
      "grid_column": null,
      "grid_gap": null,
      "grid_row": null,
      "grid_template_areas": null,
      "grid_template_columns": null,
      "grid_template_rows": null,
      "height": null,
      "justify_content": null,
      "justify_items": null,
      "left": null,
      "margin": null,
      "max_height": null,
      "max_width": null,
      "min_height": null,
      "min_width": null,
      "object_fit": null,
      "object_position": null,
      "order": null,
      "overflow": null,
      "overflow_x": null,
      "overflow_y": null,
      "padding": null,
      "right": null,
      "top": null,
      "visibility": null,
      "width": null
     }
    },
    "c5ca555dcf29486887c367aea8e9e6a5": {
     "model_module": "@jupyter-widgets/controls",
     "model_module_version": "1.5.0",
     "model_name": "DescriptionStyleModel",
     "state": {
      "_model_module": "@jupyter-widgets/controls",
      "_model_module_version": "1.5.0",
      "_model_name": "DescriptionStyleModel",
      "_view_count": null,
      "_view_module": "@jupyter-widgets/base",
      "_view_module_version": "1.2.0",
      "_view_name": "StyleView",
      "description_width": ""
     }
    },
    "d63806f5d3c1496a8aa94168e9bc6dec": {
     "model_module": "@jupyter-widgets/base",
     "model_module_version": "1.2.0",
     "model_name": "LayoutModel",
     "state": {
      "_model_module": "@jupyter-widgets/base",
      "_model_module_version": "1.2.0",
      "_model_name": "LayoutModel",
      "_view_count": null,
      "_view_module": "@jupyter-widgets/base",
      "_view_module_version": "1.2.0",
      "_view_name": "LayoutView",
      "align_content": null,
      "align_items": null,
      "align_self": null,
      "border": null,
      "bottom": null,
      "display": null,
      "flex": null,
      "flex_flow": null,
      "grid_area": null,
      "grid_auto_columns": null,
      "grid_auto_flow": null,
      "grid_auto_rows": null,
      "grid_column": null,
      "grid_gap": null,
      "grid_row": null,
      "grid_template_areas": null,
      "grid_template_columns": null,
      "grid_template_rows": null,
      "height": null,
      "justify_content": null,
      "justify_items": null,
      "left": null,
      "margin": null,
      "max_height": null,
      "max_width": null,
      "min_height": null,
      "min_width": null,
      "object_fit": null,
      "object_position": null,
      "order": null,
      "overflow": null,
      "overflow_x": null,
      "overflow_y": null,
      "padding": null,
      "right": null,
      "top": null,
      "visibility": null,
      "width": null
     }
    },
    "d6662a8873bc467eaa0adc2aa92b6562": {
     "model_module": "@jupyter-widgets/base",
     "model_module_version": "1.2.0",
     "model_name": "LayoutModel",
     "state": {
      "_model_module": "@jupyter-widgets/base",
      "_model_module_version": "1.2.0",
      "_model_name": "LayoutModel",
      "_view_count": null,
      "_view_module": "@jupyter-widgets/base",
      "_view_module_version": "1.2.0",
      "_view_name": "LayoutView",
      "align_content": null,
      "align_items": null,
      "align_self": null,
      "border": null,
      "bottom": null,
      "display": null,
      "flex": null,
      "flex_flow": null,
      "grid_area": null,
      "grid_auto_columns": null,
      "grid_auto_flow": null,
      "grid_auto_rows": null,
      "grid_column": null,
      "grid_gap": null,
      "grid_row": null,
      "grid_template_areas": null,
      "grid_template_columns": null,
      "grid_template_rows": null,
      "height": null,
      "justify_content": null,
      "justify_items": null,
      "left": null,
      "margin": null,
      "max_height": null,
      "max_width": null,
      "min_height": null,
      "min_width": null,
      "object_fit": null,
      "object_position": null,
      "order": null,
      "overflow": null,
      "overflow_x": null,
      "overflow_y": null,
      "padding": null,
      "right": null,
      "top": null,
      "visibility": null,
      "width": "20px"
     }
    },
    "d6bd7510d30947cc9ea0126fc52662dc": {
     "model_module": "@jupyter-widgets/controls",
     "model_module_version": "1.5.0",
     "model_name": "HTMLModel",
     "state": {
      "_dom_classes": [],
      "_model_module": "@jupyter-widgets/controls",
      "_model_module_version": "1.5.0",
      "_model_name": "HTMLModel",
      "_view_count": null,
      "_view_module": "@jupyter-widgets/controls",
      "_view_module_version": "1.5.0",
      "_view_name": "HTMLView",
      "description": "",
      "description_tooltip": null,
      "layout": "IPY_MODEL_265b163084364ae2b4929b4915c1651c",
      "placeholder": "​",
      "style": "IPY_MODEL_7cb0f0035e064c94977f013f77bcfb02",
      "value": " 91/? [00:02&lt;00:00, 35.21it/s, epoch=3, loss=2.56, acc=0.898]"
     }
    },
    "d7cc95ce33f94c9b87bdb5ae0cb67b86": {
     "model_module": "@jupyter-widgets/controls",
     "model_module_version": "1.5.0",
     "model_name": "HTMLModel",
     "state": {
      "_dom_classes": [],
      "_model_module": "@jupyter-widgets/controls",
      "_model_module_version": "1.5.0",
      "_model_name": "HTMLModel",
      "_view_count": null,
      "_view_module": "@jupyter-widgets/controls",
      "_view_module_version": "1.5.0",
      "_view_name": "HTMLView",
      "description": "",
      "description_tooltip": null,
      "layout": "IPY_MODEL_ee2cb3e5a91740919cc890d9b8322a71",
      "placeholder": "​",
      "style": "IPY_MODEL_99094bf7b7ac48989ce94b37febf9f55",
      "value": ""
     }
    },
    "e226d5974a6648b1a34dc3bacb05018e": {
     "model_module": "@jupyter-widgets/controls",
     "model_module_version": "1.5.0",
     "model_name": "HBoxModel",
     "state": {
      "_dom_classes": [],
      "_model_module": "@jupyter-widgets/controls",
      "_model_module_version": "1.5.0",
      "_model_name": "HBoxModel",
      "_view_count": null,
      "_view_module": "@jupyter-widgets/controls",
      "_view_module_version": "1.5.0",
      "_view_name": "HBoxView",
      "box_style": "",
      "children": [
       "IPY_MODEL_78643348236241e4b1effbca95e550f9",
       "IPY_MODEL_b31ab3ea5ed948f49f5ba5643a7703e3",
       "IPY_MODEL_e72d319cbb964669af018cd532c2e22f"
      ],
      "layout": "IPY_MODEL_454933a381e44198935fe77ddbbd716f"
     }
    },
    "e65ab771b46547a09ff5587488118d3f": {
     "model_module": "@jupyter-widgets/base",
     "model_module_version": "1.2.0",
     "model_name": "LayoutModel",
     "state": {
      "_model_module": "@jupyter-widgets/base",
      "_model_module_version": "1.2.0",
      "_model_name": "LayoutModel",
      "_view_count": null,
      "_view_module": "@jupyter-widgets/base",
      "_view_module_version": "1.2.0",
      "_view_name": "LayoutView",
      "align_content": null,
      "align_items": null,
      "align_self": null,
      "border": null,
      "bottom": null,
      "display": null,
      "flex": null,
      "flex_flow": null,
      "grid_area": null,
      "grid_auto_columns": null,
      "grid_auto_flow": null,
      "grid_auto_rows": null,
      "grid_column": null,
      "grid_gap": null,
      "grid_row": null,
      "grid_template_areas": null,
      "grid_template_columns": null,
      "grid_template_rows": null,
      "height": null,
      "justify_content": null,
      "justify_items": null,
      "left": null,
      "margin": null,
      "max_height": null,
      "max_width": null,
      "min_height": null,
      "min_width": null,
      "object_fit": null,
      "object_position": null,
      "order": null,
      "overflow": null,
      "overflow_x": null,
      "overflow_y": null,
      "padding": null,
      "right": null,
      "top": null,
      "visibility": null,
      "width": null
     }
    },
    "e72d319cbb964669af018cd532c2e22f": {
     "model_module": "@jupyter-widgets/controls",
     "model_module_version": "1.5.0",
     "model_name": "HTMLModel",
     "state": {
      "_dom_classes": [],
      "_model_module": "@jupyter-widgets/controls",
      "_model_module_version": "1.5.0",
      "_model_name": "HTMLModel",
      "_view_count": null,
      "_view_module": "@jupyter-widgets/controls",
      "_view_module_version": "1.5.0",
      "_view_name": "HTMLView",
      "description": "",
      "description_tooltip": null,
      "layout": "IPY_MODEL_e65ab771b46547a09ff5587488118d3f",
      "placeholder": "​",
      "style": "IPY_MODEL_757a3ed071414ec286ac58bd2f6d1f7f",
      "value": " 938/? [00:26&lt;00:00, 36.09it/s, epoch=1, loss=4.82, acc=0.835]"
     }
    },
    "ee2cb3e5a91740919cc890d9b8322a71": {
     "model_module": "@jupyter-widgets/base",
     "model_module_version": "1.2.0",
     "model_name": "LayoutModel",
     "state": {
      "_model_module": "@jupyter-widgets/base",
      "_model_module_version": "1.2.0",
      "_model_name": "LayoutModel",
      "_view_count": null,
      "_view_module": "@jupyter-widgets/base",
      "_view_module_version": "1.2.0",
      "_view_name": "LayoutView",
      "align_content": null,
      "align_items": null,
      "align_self": null,
      "border": null,
      "bottom": null,
      "display": null,
      "flex": null,
      "flex_flow": null,
      "grid_area": null,
      "grid_auto_columns": null,
      "grid_auto_flow": null,
      "grid_auto_rows": null,
      "grid_column": null,
      "grid_gap": null,
      "grid_row": null,
      "grid_template_areas": null,
      "grid_template_columns": null,
      "grid_template_rows": null,
      "height": null,
      "justify_content": null,
      "justify_items": null,
      "left": null,
      "margin": null,
      "max_height": null,
      "max_width": null,
      "min_height": null,
      "min_width": null,
      "object_fit": null,
      "object_position": null,
      "order": null,
      "overflow": null,
      "overflow_x": null,
      "overflow_y": null,
      "padding": null,
      "right": null,
      "top": null,
      "visibility": null,
      "width": null
     }
    },
    "f950bdbea0d5479ca23b11b735296332": {
     "model_module": "@jupyter-widgets/controls",
     "model_module_version": "1.5.0",
     "model_name": "HBoxModel",
     "state": {
      "_dom_classes": [],
      "_model_module": "@jupyter-widgets/controls",
      "_model_module_version": "1.5.0",
      "_model_name": "HBoxModel",
      "_view_count": null,
      "_view_module": "@jupyter-widgets/controls",
      "_view_module_version": "1.5.0",
      "_view_name": "HBoxView",
      "box_style": "",
      "children": [
       "IPY_MODEL_d7cc95ce33f94c9b87bdb5ae0cb67b86",
       "IPY_MODEL_0d03944908234b7b9b28b908961cadd7",
       "IPY_MODEL_7b54e82b0c21433f846774315afa18cc"
      ],
      "layout": "IPY_MODEL_209de9925fa8486dac56b8d75fab3c52"
     }
    },
    "f9dfdfb2a8bb49f8af31bf7e57c7e069": {
     "model_module": "@jupyter-widgets/controls",
     "model_module_version": "1.5.0",
     "model_name": "HBoxModel",
     "state": {
      "_dom_classes": [],
      "_model_module": "@jupyter-widgets/controls",
      "_model_module_version": "1.5.0",
      "_model_name": "HBoxModel",
      "_view_count": null,
      "_view_module": "@jupyter-widgets/controls",
      "_view_module_version": "1.5.0",
      "_view_name": "HBoxView",
      "box_style": "",
      "children": [
       "IPY_MODEL_60e28c67714844b7aa33cd919388368c",
       "IPY_MODEL_1062c75a31bb446ba0caf4714ef577c9",
       "IPY_MODEL_bde32a49485b443b90951be1b0288f0a"
      ],
      "layout": "IPY_MODEL_a4e837e795b14dbb9a5ca4dfb7e3903a"
     }
    },
    "fc8675165f9d44e3b0027bcaa6c15fcf": {
     "model_module": "@jupyter-widgets/controls",
     "model_module_version": "1.5.0",
     "model_name": "ProgressStyleModel",
     "state": {
      "_model_module": "@jupyter-widgets/controls",
      "_model_module_version": "1.5.0",
      "_model_name": "ProgressStyleModel",
      "_view_count": null,
      "_view_module": "@jupyter-widgets/base",
      "_view_module_version": "1.2.0",
      "_view_name": "StyleView",
      "bar_color": null,
      "description_width": ""
     }
    },
    "fd8ddb7e3b0043748f7d41030a31790d": {
     "model_module": "@jupyter-widgets/controls",
     "model_module_version": "1.5.0",
     "model_name": "ProgressStyleModel",
     "state": {
      "_model_module": "@jupyter-widgets/controls",
      "_model_module_version": "1.5.0",
      "_model_name": "ProgressStyleModel",
      "_view_count": null,
      "_view_module": "@jupyter-widgets/base",
      "_view_module_version": "1.2.0",
      "_view_name": "StyleView",
      "bar_color": null,
      "description_width": ""
     }
    },
    "ff89ea68c5e34426aefe8da699572eaa": {
     "model_module": "@jupyter-widgets/controls",
     "model_module_version": "1.5.0",
     "model_name": "ProgressStyleModel",
     "state": {
      "_model_module": "@jupyter-widgets/controls",
      "_model_module_version": "1.5.0",
      "_model_name": "ProgressStyleModel",
      "_view_count": null,
      "_view_module": "@jupyter-widgets/base",
      "_view_module_version": "1.2.0",
      "_view_name": "StyleView",
      "bar_color": null,
      "description_width": ""
     }
    }
   }
  }
 },
 "nbformat": 4,
 "nbformat_minor": 5
}
