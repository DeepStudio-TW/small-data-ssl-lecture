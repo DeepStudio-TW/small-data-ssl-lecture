{
 "cells": [
  {
   "cell_type": "code",
   "execution_count": null,
   "id": "13c1933f",
   "metadata": {},
   "outputs": [],
   "source": [
    "import shutil, os\n",
    "from glob import glob\n",
    "from sklearn.model_selection import train_test_split\n",
    "import matplotlib.pyplot as plt\n",
    "import numpy as np\n",
    "import pandas as pd"
   ]
  },
  {
   "cell_type": "code",
   "execution_count": null,
   "id": "086ff0a7",
   "metadata": {},
   "outputs": [],
   "source": [
    "# Define params\n",
    "WAYS=5\n",
    "SHOTS=5\n",
    "SRC_SAMPLES=20\n",
    "SRC_THR=30\n",
    "TGT_SAMPLES=55"
   ]
  },
  {
   "cell_type": "code",
   "execution_count": null,
   "id": "b2bc9895",
   "metadata": {},
   "outputs": [],
   "source": [
    "all_classes = glob('data_/PokemonData/*')\n",
    "print(f\"total {len(all_classes)} classes\")"
   ]
  },
  {
   "cell_type": "code",
   "execution_count": null,
   "id": "cfc4964b",
   "metadata": {},
   "outputs": [],
   "source": [
    "data_per_class=[len(glob(sdir+'/*.jpg')) for sdir in all_classes]\n",
    "print(\"Min\",min(data_per_class),\",Max\",max(data_per_class))"
   ]
  },
  {
   "cell_type": "code",
   "execution_count": null,
   "id": "c9fd367f",
   "metadata": {},
   "outputs": [],
   "source": [
    "# Sort all the classes by ID\n",
    "sorted_classID=np.array(sorted([(l,e) for e,l in enumerate(data_per_class)]))"
   ]
  },
  {
   "cell_type": "code",
   "execution_count": null,
   "id": "cdfb001b",
   "metadata": {},
   "outputs": [],
   "source": [
    "sum(sorted_classID[:,0]>=SRC_THR)"
   ]
  },
  {
   "cell_type": "code",
   "execution_count": null,
   "id": "e6b02d5b",
   "metadata": {},
   "outputs": [],
   "source": [
    "# Total classes that can be used as target\n",
    "sum(sorted_classID[:,0]>=TGT_SAMPLES)"
   ]
  },
  {
   "cell_type": "code",
   "execution_count": null,
   "id": "e60442f0",
   "metadata": {},
   "outputs": [],
   "source": [
    "sorted_classID=sorted_classID[sorted_classID[:,0]>=SRC_THR,:]\n",
    "print(f\"total {len(sorted_classID)} classes\")"
   ]
  },
  {
   "cell_type": "code",
   "execution_count": null,
   "id": "510d73c9",
   "metadata": {},
   "outputs": [],
   "source": [
    "sourceID=sorted_classID[sorted_classID[:,0]<TGT_SAMPLES,1]\n",
    "targetID=sorted_classID[sorted_classID[:,0]>=TGT_SAMPLES,1]\n",
    "print(f\"total {len(sorted_classID)} classes=source {len(sourceID)} + target {len(targetID)} classes\")\n"
   ]
  },
  {
   "cell_type": "code",
   "execution_count": null,
   "id": "37c2e695",
   "metadata": {},
   "outputs": [],
   "source": [
    "np.random.seed(2022)\n",
    "chosen_ones=np.random.choice(range(len(targetID)),size=WAYS,replace=False)\n",
    "final_targetID=set(targetID[chosen_ones])\n",
    "other_targetID=set(targetID)-final_targetID"
   ]
  },
  {
   "cell_type": "code",
   "execution_count": null,
   "id": "d8ed57d5",
   "metadata": {},
   "outputs": [],
   "source": [
    "# Assign source and target class directories\n",
    "source_classes=np.array(all_classes)[list(set(sourceID)|other_targetID)]\n",
    "target_classes=np.array(all_classes)[list(final_targetID)]"
   ]
  },
  {
   "cell_type": "code",
   "execution_count": null,
   "id": "78e28747",
   "metadata": {},
   "outputs": [],
   "source": [
    "target_classes"
   ]
  },
  {
   "cell_type": "code",
   "execution_count": null,
   "id": "6365aa9a",
   "metadata": {},
   "outputs": [],
   "source": [
    "# Creating source dataset in a directory\n",
    "np.random.seed(2022)\n",
    "for class_dir in source_classes:\n",
    "    label_name=os.path.basename(class_dir)\n",
    "    # List all files\n",
    "    label_pics=glob(os.path.join(class_dir,\"*.jpg\"))\n",
    "    # Pick some pictures\n",
    "    label_pics=np.random.choice(label_pics,size=SRC_SAMPLES,replace=False)\n",
    "    # Copy those pictures\n",
    "    class_dir=os.path.join(\"source\",label_name)\n",
    "    os.makedirs(class_dir,exist_ok = True)\n",
    "    for f in label_pics:\n",
    "        shutil.copy(src=f, dst=class_dir)"
   ]
  },
  {
   "cell_type": "code",
   "execution_count": null,
   "id": "c0d90894",
   "metadata": {},
   "outputs": [],
   "source": [
    "Q_SAMPLES=50\n",
    "print(Q_SAMPLES)"
   ]
  },
  {
   "cell_type": "code",
   "execution_count": null,
   "id": "add8949a",
   "metadata": {},
   "outputs": [],
   "source": [
    "# Creating Target in a directory\n",
    "\n",
    "np.random.seed(2022)\n",
    "for class_dir in target_classes:\n",
    "    label_name=os.path.basename(class_dir)\n",
    "    # copy some pics to new dir\n",
    "    label_pics=glob(os.path.join(class_dir,\"*.jpg\"))\n",
    "    label_pics=np.random.choice(label_pics,size=Q_SAMPLES+SHOTS,replace=False)\n",
    "    class_dir=os.path.join(\"target_support\",label_name)\n",
    "    os.makedirs(class_dir,exist_ok = True)\n",
    "    for f in label_pics:\n",
    "        shutil.copy(src=f, dst=class_dir)"
   ]
  },
  {
   "cell_type": "code",
   "execution_count": null,
   "id": "cf748049",
   "metadata": {},
   "outputs": [],
   "source": [
    "# Move those data and record tasks in a list\n",
    "target_ans=pd.DataFrame(columns=['filename']+[\"ans\"])\n",
    "all_tgt_classes = glob('target_support/*')\n",
    "os.makedirs(\"target_query\",exist_ok = True)\n",
    "np.random.seed(1234)\n",
    "for cls_id,class_dir in enumerate(all_tgt_classes):\n",
    "    label_name=os.path.basename(class_dir)\n",
    "    label_pics=glob(os.path.join(class_dir,\"*.jpg\"))\n",
    "    label_pics=np.random.choice(label_pics,size=Q_SAMPLES,replace=False)\n",
    "    for pics in label_pics:\n",
    "        label=cls_id\n",
    "        filename=os.path.basename(pics)\n",
    "        shutil.move(pics,\"target_query\")\n",
    "        sample_frame=pd.DataFrame([[filename,label]],\n",
    "                                  columns=['filename']+[\"ans\"])\n",
    "        target_ans=target_ans.append(sample_frame)\n",
    "target_ans=target_ans.reset_index(drop=True)"
   ]
  },
  {
   "cell_type": "code",
   "execution_count": null,
   "id": "00802967",
   "metadata": {},
   "outputs": [],
   "source": [
    "np.random.seed(2022)\n",
    "target_ans.sample(len(target_ans)).to_csv(\"ans.csv\",index=False)"
   ]
  },
  {
   "cell_type": "code",
   "execution_count": null,
   "id": "28a20ca4",
   "metadata": {},
   "outputs": [],
   "source": []
  }
 ],
 "metadata": {
  "kernelspec": {
   "display_name": "Python 3 (ipykernel)",
   "language": "python",
   "name": "python3"
  },
  "language_info": {
   "codemirror_mode": {
    "name": "ipython",
    "version": 3
   },
   "file_extension": ".py",
   "mimetype": "text/x-python",
   "name": "python",
   "nbconvert_exporter": "python",
   "pygments_lexer": "ipython3",
   "version": "3.8.5"
  }
 },
 "nbformat": 4,
 "nbformat_minor": 5
}
