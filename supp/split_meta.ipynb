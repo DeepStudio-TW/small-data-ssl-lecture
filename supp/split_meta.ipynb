{
 "cells": [
  {
   "cell_type": "code",
   "execution_count": 1,
   "id": "9c87e0f1",
   "metadata": {},
   "outputs": [],
   "source": [
    "import shutil, os\n",
    "from glob import glob\n",
    "from sklearn.model_selection import train_test_split\n",
    "import matplotlib.pyplot as plt\n",
    "import numpy as np\n",
    "import pandas as pd"
   ]
  },
  {
   "cell_type": "code",
   "execution_count": 20,
   "id": "063c2c1b",
   "metadata": {},
   "outputs": [],
   "source": [
    "# Define params\n",
    "WAYS=5\n",
    "SHOTS=5\n",
    "SRC_SAMPLES=20\n",
    "SRC_THR=30\n",
    "TGT_SAMPLES=55"
   ]
  },
  {
   "cell_type": "code",
   "execution_count": 13,
   "id": "1b67fdb9",
   "metadata": {},
   "outputs": [
    {
     "name": "stdout",
     "output_type": "stream",
     "text": [
      "total 150 classes\n"
     ]
    }
   ],
   "source": [
    "all_classes = glob('data_/PokemonData/*')\n",
    "print(f\"total {len(all_classes)} classes\")"
   ]
  },
  {
   "cell_type": "code",
   "execution_count": 14,
   "id": "23240c14",
   "metadata": {},
   "outputs": [
    {
     "name": "stdout",
     "output_type": "stream",
     "text": [
      "Min 21 ,Max 66\n"
     ]
    }
   ],
   "source": [
    "data_per_class=[len(glob(sdir+'/*.jpg')) for sdir in all_classes]\n",
    "print(\"Min\",min(data_per_class),\",Max\",max(data_per_class))"
   ]
  },
  {
   "cell_type": "code",
   "execution_count": 15,
   "id": "99da676e",
   "metadata": {},
   "outputs": [],
   "source": [
    "# Sort all the classes by ID\n",
    "sorted_classID=np.array(sorted([(l,e) for e,l in enumerate(data_per_class)]))"
   ]
  },
  {
   "cell_type": "code",
   "execution_count": 18,
   "id": "14b1f491",
   "metadata": {},
   "outputs": [
    {
     "data": {
      "text/plain": [
       "143"
      ]
     },
     "execution_count": 18,
     "metadata": {},
     "output_type": "execute_result"
    }
   ],
   "source": [
    "sum(sorted_classID[:,0]>=SRC_THR)"
   ]
  },
  {
   "cell_type": "code",
   "execution_count": 21,
   "id": "e4ead0bf",
   "metadata": {},
   "outputs": [
    {
     "data": {
      "text/plain": [
       "8"
      ]
     },
     "execution_count": 21,
     "metadata": {},
     "output_type": "execute_result"
    }
   ],
   "source": [
    "# Total classes that can be used as target\n",
    "sum(sorted_classID[:,0]>=TGT_SAMPLES)"
   ]
  },
  {
   "cell_type": "code",
   "execution_count": 23,
   "id": "d4b3c3b5",
   "metadata": {},
   "outputs": [
    {
     "name": "stdout",
     "output_type": "stream",
     "text": [
      "total 143 classes\n"
     ]
    }
   ],
   "source": [
    "sorted_classID=sorted_classID[sorted_classID[:,0]>=SRC_THR,:]\n",
    "print(f\"total {len(sorted_classID)} classes\")"
   ]
  },
  {
   "cell_type": "code",
   "execution_count": 24,
   "id": "2650e7b1",
   "metadata": {},
   "outputs": [
    {
     "name": "stdout",
     "output_type": "stream",
     "text": [
      "total 143 classes=source 135 + target 8 classes\n"
     ]
    }
   ],
   "source": [
    "sourceID=sorted_classID[sorted_classID[:,0]<TGT_SAMPLES,1]\n",
    "targetID=sorted_classID[sorted_classID[:,0]>=TGT_SAMPLES,1]\n",
    "print(f\"total {len(sorted_classID)} classes=source {len(sourceID)} + target {len(targetID)} classes\")\n"
   ]
  },
  {
   "cell_type": "code",
   "execution_count": 45,
   "id": "b914e508",
   "metadata": {},
   "outputs": [],
   "source": [
    "np.random.seed(2022)\n",
    "chosen_ones=np.random.choice(range(len(targetID)),size=WAYS,replace=False)\n",
    "final_targetID=set(targetID[chosen_ones])\n",
    "other_targetID=set(targetID)-final_targetID"
   ]
  },
  {
   "cell_type": "code",
   "execution_count": 57,
   "id": "3c6152f5",
   "metadata": {},
   "outputs": [],
   "source": [
    "# Assign source and target class directories\n",
    "source_classes=np.array(all_classes)[list(set(sourceID)|other_targetID)]\n",
    "target_classes=np.array(all_classes)[list(final_targetID)]"
   ]
  },
  {
   "cell_type": "code",
   "execution_count": 58,
   "id": "7634bbe0",
   "metadata": {},
   "outputs": [
    {
     "data": {
      "text/plain": [
       "array(['/home/jovyan/course/data_/PokemonData/Vaporeon',\n",
       "       '/home/jovyan/course/data_/PokemonData/Spearow',\n",
       "       '/home/jovyan/course/data_/PokemonData/Scyther',\n",
       "       '/home/jovyan/course/data_/PokemonData/Wigglytuff',\n",
       "       '/home/jovyan/course/data_/PokemonData/Voltorb'], dtype='<U54')"
      ]
     },
     "execution_count": 58,
     "metadata": {},
     "output_type": "execute_result"
    }
   ],
   "source": [
    "target_classes"
   ]
  },
  {
   "cell_type": "code",
   "execution_count": 59,
   "id": "52726c4c",
   "metadata": {},
   "outputs": [],
   "source": [
    "# Creating source dataset in a directory\n",
    "np.random.seed(2022)\n",
    "for class_dir in source_classes:\n",
    "    label_name=os.path.basename(class_dir)\n",
    "    # List all files\n",
    "    label_pics=glob(os.path.join(class_dir,\"*.jpg\"))\n",
    "    # Pick some pictures\n",
    "    label_pics=np.random.choice(label_pics,size=SRC_SAMPLES,replace=False)\n",
    "    # Copy those pictures\n",
    "    class_dir=os.path.join(\"source\",label_name)\n",
    "    os.makedirs(class_dir,exist_ok = True)\n",
    "    for f in label_pics:\n",
    "        shutil.copy(src=f, dst=class_dir)"
   ]
  },
  {
   "cell_type": "code",
   "execution_count": 60,
   "id": "f50ed1c8",
   "metadata": {},
   "outputs": [
    {
     "name": "stdout",
     "output_type": "stream",
     "text": [
      "50\n"
     ]
    }
   ],
   "source": [
    "Q_SAMPLES=50\n",
    "print(Q_SAMPLES)"
   ]
  },
  {
   "cell_type": "code",
   "execution_count": 71,
   "id": "8967202f",
   "metadata": {},
   "outputs": [],
   "source": [
    "# Creating Target in a directory\n",
    "\n",
    "np.random.seed(2022)\n",
    "for class_dir in target_classes:\n",
    "    label_name=os.path.basename(class_dir)\n",
    "    # copy some pics to new dir\n",
    "    label_pics=glob(os.path.join(class_dir,\"*.jpg\"))\n",
    "    label_pics=np.random.choice(label_pics,size=Q_SAMPLES+SHOTS,replace=False)\n",
    "    class_dir=os.path.join(\"target_support\",label_name)\n",
    "    os.makedirs(class_dir,exist_ok = True)\n",
    "    for f in label_pics:\n",
    "        shutil.copy(src=f, dst=class_dir)"
   ]
  },
  {
   "cell_type": "code",
   "execution_count": 72,
   "id": "975e5da7",
   "metadata": {},
   "outputs": [],
   "source": [
    "# Move those data and record tasks in a list\n",
    "target_ans=pd.DataFrame(columns=['filename']+[\"ans\"])\n",
    "all_tgt_classes = glob('target_support/*')\n",
    "os.makedirs(\"target_query\",exist_ok = True)\n",
    "np.random.seed(1234)\n",
    "for cls_id,class_dir in enumerate(all_tgt_classes):\n",
    "    label_name=os.path.basename(class_dir)\n",
    "    label_pics=glob(os.path.join(class_dir,\"*.jpg\"))\n",
    "    label_pics=np.random.choice(label_pics,size=Q_SAMPLES,replace=False)\n",
    "    for pics in label_pics:\n",
    "        label=cls_id\n",
    "        filename=os.path.basename(pics)\n",
    "        shutil.move(pics,\"target_query\")\n",
    "        sample_frame=pd.DataFrame([[filename,label]],\n",
    "                                  columns=['filename']+[\"ans\"])\n",
    "        target_ans=target_ans.append(sample_frame)\n",
    "target_ans=target_ans.reset_index(drop=True)"
   ]
  },
  {
   "cell_type": "code",
   "execution_count": 73,
   "id": "afa62168",
   "metadata": {},
   "outputs": [],
   "source": [
    "np.random.seed(2022)\n",
    "target_ans.sample(len(target_ans)).to_csv(\"ans.csv\",index=False)"
   ]
  },
  {
   "cell_type": "code",
   "execution_count": null,
   "id": "1de56047",
   "metadata": {},
   "outputs": [],
   "source": []
  }
 ],
 "metadata": {
  "kernelspec": {
   "display_name": "Python 3 (ipykernel)",
   "language": "python",
   "name": "python3"
  },
  "language_info": {
   "codemirror_mode": {
    "name": "ipython",
    "version": 3
   },
   "file_extension": ".py",
   "mimetype": "text/x-python",
   "name": "python",
   "nbconvert_exporter": "python",
   "pygments_lexer": "ipython3",
   "version": "3.8.5"
  }
 },
 "nbformat": 4,
 "nbformat_minor": 5
}
